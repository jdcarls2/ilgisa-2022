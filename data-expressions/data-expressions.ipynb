{
 "cells": [
  {
   "cell_type": "markdown",
   "metadata": {},
   "source": [
    "# Dashboards and Data Expressions"
   ]
  },
  {
   "cell_type": "markdown",
   "metadata": {},
   "source": [
    "**Arcade** is Esri's in-house expression language for interacting with all kind of elements. While not exactly JavaScript, folks familiar with JS will feel pretty comfortable with Arcade's structure and logic.\n",
    "\n",
    "It's been around for a while now, and continues to grow in its capabilities for working with both desktop and web content.\n",
    "\n",
    "In April of 2021 (and later that same year for Portal users), **ArcGIS Dashboards** added a *huge* new capability: using Arcade to cobble together and manipulate layers and data with a **Data Expression**. The possibilities this has opened up for Dashboards users are hard to overstate."
   ]
  },
  {
   "cell_type": "markdown",
   "metadata": {},
   "source": [
    "# Outline\n",
    "\n",
    "Over the course of this presentation, we will:\n",
    "\n",
    "- Talk about what a Data Expression (and the underlying FeatureSet) is\n",
    "- Show the essential parts of a Data Expression\n",
    "- Build a wide array of examples"
   ]
  },
  {
   "cell_type": "markdown",
   "metadata": {},
   "source": [
    "# What is a Data Expression?"
   ]
  },
  {
   "cell_type": "markdown",
   "metadata": {},
   "source": [
    "The Esri blog has a [nice overview](https://www.esri.com/arcgis-blog/products/ops-dashboard/announcements/introducing-data-expressions-in-arcgis-dashboards/) on the subject, but here's the short version:\n",
    "\n",
    "A Data Expression is *any* Arcade expression that returns a valid FeatureSet, to be used as a new layer in a Dashboard."
   ]
  },
  {
   "cell_type": "markdown",
   "metadata": {},
   "source": [
    "## So, What is a FeatureSet?\n",
    "\n",
    "Again, the [Esri docs](https://developers.arcgis.com/arcgis-rest-js/api-reference/arcgis-rest-feature-service/IFeatureSet) are invaluable here, and I will not be reiterating them in their entirety.\n",
    "\n",
    "Of the possible properties, three are essential:\n",
    "\n",
    "```js\n",
    "{\n",
    "    fields: [],\n",
    "    features: [],\n",
    "    geometryType: 'GeometryType'\n",
    "}\n",
    "```\n",
    "\n",
    "[GeometryTypes](https://developers.arcgis.com/arcgis-rest-js/api-reference/arcgis-rest-feature-service/GeometryType)"
   ]
  },
  {
   "cell_type": "markdown",
   "metadata": {},
   "source": [
    "### Fields\n",
    "\n",
    "This is how a FeatureSet's schema is defined. Each field can itself have a number of attributes.\n",
    "\n",
    "Again, only a few are essential:\n",
    "\n",
    "```js\n",
    "[\n",
    "    {\n",
    "        name: 'fieldName',\n",
    "        type: 'FieldType'\n",
    "    },\n",
    "    {\n",
    "        name: 'another_field',\n",
    "        type: 'FieldType'\n",
    "    },\n",
    "    ...\n",
    "]\n",
    "```\n",
    "\n",
    "[FieldTypes](https://developers.arcgis.com/arcgis-rest-js/api-reference/arcgis-rest-request/FieldType)"
   ]
  },
  {
   "cell_type": "markdown",
   "metadata": {},
   "source": [
    "### Features\n",
    "\n",
    "Your individual Features need to have a dict of `attributes`. If your FeatureSet is spatial, you'll need to include `geometry` as well.\n",
    "\n",
    "```js\n",
    "[\n",
    "    {\n",
    "        attributes: {\n",
    "            fieldName: 'value',\n",
    "            another_field: 'some other value'\n",
    "        }\n",
    "    },\n",
    "    {\n",
    "        attributes: {\n",
    "            fieldName: 'a different value',\n",
    "            another_field: null\n",
    "        }\n",
    "    },\n",
    "    ...\n",
    "]\n",
    "```"
   ]
  },
  {
   "cell_type": "markdown",
   "metadata": {},
   "source": [
    "# How Do I build a Data Expression?"
   ]
  },
  {
   "cell_type": "markdown",
   "metadata": {},
   "source": []
  }
 ],
 "metadata": {
  "language_info": {
   "name": "python"
  },
  "orig_nbformat": 4
 },
 "nbformat": 4,
 "nbformat_minor": 2
}
