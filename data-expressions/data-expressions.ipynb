{
 "cells": [
  {
   "cell_type": "markdown",
   "metadata": {
    "slideshow": {
     "slide_type": "slide"
    }
   },
   "source": [
    "# Dashboards and Data Expressions"
   ]
  },
  {
   "cell_type": "markdown",
   "metadata": {
    "slideshow": {
     "slide_type": "subslide"
    }
   },
   "source": [
    "![QR to GitHub repo](../images/ilgisa-2022-qr.png)\n",
    "\n",
    "https://github.com/jdcarls2/ilgisa-2022"
   ]
  },
  {
   "cell_type": "markdown",
   "metadata": {
    "slideshow": {
     "slide_type": "subslide"
    }
   },
   "source": [
    "**Arcade** is Esri's in-house expression language for interacting with all kind of elements. While not exactly JavaScript, folks familiar with JS will feel pretty comfortable with Arcade's structure and logic.\n",
    "\n",
    "It's been around for a while now, and continues to grow in its capabilities for working with both desktop and web content.\n",
    "\n",
    "In April of 2021 (and later that same year for Portal users), **ArcGIS Dashboards** added a *huge* new capability: using Arcade to cobble together and manipulate layers and data with a **Data Expression**. The possibilities this has opened up for Dashboards users are hard to overstate."
   ]
  },
  {
   "cell_type": "markdown",
   "metadata": {
    "slideshow": {
     "slide_type": "subslide"
    }
   },
   "source": [
    "# Outline\n",
    "\n",
    "Over the course of this presentation, we will:\n",
    "\n",
    "- Talk about what a Data Expression (and the underlying FeatureSet) is\n",
    "- Show the essential parts of a Data Expression\n",
    "- Build a wide array of examples"
   ]
  },
  {
   "cell_type": "markdown",
   "metadata": {
    "slideshow": {
     "slide_type": "slide"
    }
   },
   "source": [
    "# What is a Data Expression?"
   ]
  },
  {
   "cell_type": "markdown",
   "metadata": {
    "slideshow": {
     "slide_type": "fragment"
    }
   },
   "source": [
    "The Esri blog has a [nice overview](https://www.esri.com/arcgis-blog/products/ops-dashboard/announcements/introducing-data-expressions-in-arcgis-dashboards/) on the subject, but here's the short version:\n",
    "\n",
    "A Data Expression is *any* Arcade expression that returns a valid FeatureSet, to be used as a new layer in a Dashboard."
   ]
  },
  {
   "cell_type": "markdown",
   "metadata": {
    "slideshow": {
     "slide_type": "subslide"
    }
   },
   "source": [
    "## So, What is a FeatureSet?\n",
    "\n",
    "Again, the [Esri docs](https://developers.arcgis.com/arcgis-rest-js/api-reference/arcgis-rest-feature-service/IFeatureSet) are invaluable here, and I will not be reiterating them in their entirety.\n",
    "\n",
    "Of the possible properties, three are essential:\n",
    "\n",
    "```js\n",
    "{\n",
    "    fields: [],\n",
    "    features: [],\n",
    "    geometryType: 'GeometryType'\n",
    "}\n",
    "```\n",
    "\n",
    "[GeometryTypes](https://developers.arcgis.com/arcgis-rest-js/api-reference/arcgis-rest-feature-service/GeometryType)"
   ]
  },
  {
   "cell_type": "markdown",
   "metadata": {
    "slideshow": {
     "slide_type": "subslide"
    }
   },
   "source": [
    "### Fields\n",
    "\n",
    "This is how a FeatureSet's schema is defined. Each field can itself have a number of attributes.\n",
    "\n",
    "Again, only a few are essential:\n",
    "\n",
    "```js\n",
    "[\n",
    "    {\n",
    "        name: 'fieldName',\n",
    "        type: 'FieldType'\n",
    "    },\n",
    "    {\n",
    "        name: 'another_field',\n",
    "        type: 'FieldType'\n",
    "    },\n",
    "    ...\n",
    "]\n",
    "```\n",
    "\n",
    "[FieldTypes](https://developers.arcgis.com/arcgis-rest-js/api-reference/arcgis-rest-request/FieldType)"
   ]
  },
  {
   "cell_type": "markdown",
   "metadata": {
    "slideshow": {
     "slide_type": "subslide"
    }
   },
   "source": [
    "### Features\n",
    "\n",
    "Your individual Features need to have a dict of `attributes`. If your FeatureSet is spatial, you'll need to include `geometry` as well.\n",
    "\n",
    "```js\n",
    "[\n",
    "    {\n",
    "        attributes: {\n",
    "            fieldName: 'value',\n",
    "            another_field: 'some other value'\n",
    "        }\n",
    "    },\n",
    "    {\n",
    "        attributes: {\n",
    "            fieldName: 'a different value',\n",
    "            another_field: null\n",
    "        }\n",
    "    },\n",
    "    ...\n",
    "]\n",
    "```"
   ]
  },
  {
   "cell_type": "markdown",
   "metadata": {
    "slideshow": {
     "slide_type": "slide"
    }
   },
   "source": [
    "# How Do I build a Data Expression?"
   ]
  },
  {
   "cell_type": "markdown",
   "metadata": {
    "slideshow": {
     "slide_type": "subslide"
    }
   },
   "source": [
    "A Data Expression can be nearly *anything*, provided that it returns a **FeatureSet**. Certain Arcade functions, like `GroupBy` and `Distinct` will return a FeatureSet directly, and make for quick and easy expressions.\n",
    "\n",
    "More commonly, a Data Expression will need you to build the thing yourself, following the essential properties mentioned earlier.\n",
    "\n",
    "Start by creating a **dictionary** and establishing the schema in the `fields` property.\n",
    "\n",
    "```js\n",
    "var out_dict = {\n",
    "    fields: [\n",
    "        {name: 'field_A', type: 'esriFieldTypeInteger'},\n",
    "        {name: 'field_B', type: 'esriFieldTypeString'}\n",
    "    ],\n",
    "    features: [],\n",
    "    geometryType: ''\n",
    "}\n",
    "```"
   ]
  },
  {
   "cell_type": "markdown",
   "metadata": {
    "slideshow": {
     "slide_type": "subslide"
    }
   },
   "source": [
    "### Populating the `features` Array\n",
    "\n",
    "Once you create your dict, you'll need to add features to it. In Arcade (as in JS), there is an array function `Push`. Use this to add new elements to an existing array. (Remember, the `features` property of our dict is an empty array!)\n",
    "\n",
    "This is pretty much always done one feature at a time by means of a loop. Like:\n",
    "\n",
    "```js\n",
    "for (var f in input_fs){\n",
    "    Push(\n",
    "        out_dict['features'],\n",
    "        { attributes: {\n",
    "            field_A: 8,\n",
    "            field_B: 'some string'\n",
    "        }}\n",
    "    )\n",
    "}\n",
    "```"
   ]
  },
  {
   "cell_type": "markdown",
   "metadata": {
    "slideshow": {
     "slide_type": "subslide"
    }
   },
   "source": [
    "## Bringing in Data\n",
    "\n",
    "To actually *do* anything in our expression, we need some data! The only way to get data into your expression is to use `FeatureSetByPortalItem`.\n",
    "\n",
    "This function works like this:\n",
    "\n",
    "```js\n",
    "FeatureSetByPortalItem(\n",
    "    Portal('your portal url'),\n",
    "    'itemID of your service',\n",
    "    0,                        // or whatever layer index you need\n",
    "    ['list', 'of', 'fields'], // or ['*'] for all\n",
    "    false\n",
    ")\n",
    "```"
   ]
  },
  {
   "cell_type": "markdown",
   "metadata": {
    "slideshow": {
     "slide_type": "subslide"
    }
   },
   "source": [
    "### A note on geometry and fields\n",
    "\n",
    "The way Data Expressions work can be kind of interesting.\n",
    "\n",
    "If I bring in my layer through `FeatureSetByPortalItem`, then proceed to filter the FeatureSet with the `Filter` function, or perform a spatial overlay operation against it, my browser is actually submitting a request back to the *original service* to get the filtered / intersected set, as opposed to whittling down some in-memory array of features. In other words, the work is done by the server, not the client.\n",
    "\n",
    "However, if my FeatureSet has been modified, the query is made against an in-memory array of features.\n",
    "\n",
    "**Not all functions exhibit this behavior!**"
   ]
  },
  {
   "cell_type": "markdown",
   "metadata": {
    "slideshow": {
     "slide_type": "subslide"
    }
   },
   "source": [
    "### Why does that matter?\n",
    "\n",
    "When your expression sends a query to the source layer, you have **full access to attributes and geometry**, whether or not those things are actually included in your FeatureSet! This can allow you to create new calculated fields and perform overlay operations without the processing cost of actually bringing that data into your expression."
   ]
  },
  {
   "cell_type": "markdown",
   "metadata": {
    "slideshow": {
     "slide_type": "slide"
    }
   },
   "source": [
    "# Let's See Some Examples Already!"
   ]
  },
  {
   "cell_type": "markdown",
   "metadata": {
    "slideshow": {
     "slide_type": "subslide"
    }
   },
   "source": [
    "This stuff can be hard to follow just as text. Let's just look at some example expressions to better understand how they're built and how they can be used.\n",
    "\n",
    "We'll be looking at [a sample dashboard](https://kendall.maps.arcgis.com/apps/dashboards/1b0c8a757ad04bdea4ac502041a673b7) I built for this presentation. It's fully public and uses **Living Atlas** layers, so anyone interested can view and copy the dashboard.\n",
    "\n",
    "![Dashboard QR](../images/data-expressions-qr.png)"
   ]
  }
 ],
 "metadata": {
  "celltoolbar": "Slideshow",
  "kernelspec": {
   "display_name": "Python 3 (ipykernel)",
   "language": "python",
   "name": "python3"
  },
  "language_info": {
   "codemirror_mode": {
    "name": "ipython",
    "version": 3
   },
   "file_extension": ".py",
   "mimetype": "text/x-python",
   "name": "python",
   "nbconvert_exporter": "python",
   "pygments_lexer": "ipython3",
   "version": "3.10.6"
  },
  "rise": {
   "enable_chalkboard": "true"
  },
  "vscode": {
   "interpreter": {
    "hash": "ad2bdc8ecc057115af97d19610ffacc2b4e99fae6737bb82f5d7fb13d2f2c186"
   }
  }
 },
 "nbformat": 4,
 "nbformat_minor": 2
}
