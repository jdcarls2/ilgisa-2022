{
 "cells": [
  {
   "cell_type": "markdown",
   "metadata": {},
   "source": [
    "# Digital Change Record\n",
    "\n",
    "Showing a comprehensive, interactive, and always-up-to-date record of changes to Kendall County's Tax Maps."
   ]
  },
  {
   "cell_type": "markdown",
   "metadata": {},
   "source": [
    "![GitHub repo QR](../images/ilgisa-2022-qr.png)\n",
    "\n",
    "https://github.com/jdcarls2/ilgisa-2022"
   ]
  },
  {
   "cell_type": "markdown",
   "metadata": {},
   "source": [
    "# Why?\n",
    "\n",
    "- Increases transparency\n",
    "- Gives tools to other stakeholders, reducing calls/emails requesting information\n",
    "- No files to store (or replace if corrections are made)\n",
    "- I don't have to do any extra work!"
   ]
  },
  {
   "cell_type": "markdown",
   "metadata": {},
   "source": [
    "# The Bad Old Days\n",
    "\n"
   ]
  }
 ],
 "metadata": {
  "language_info": {
   "name": "python"
  },
  "orig_nbformat": 4
 },
 "nbformat": 4,
 "nbformat_minor": 2
}
