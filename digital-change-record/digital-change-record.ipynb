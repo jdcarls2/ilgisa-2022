{
 "cells": [
  {
   "cell_type": "markdown",
   "metadata": {
    "slideshow": {
     "slide_type": "slide"
    }
   },
   "source": [
    "# Digital Change Record\n",
    "\n",
    "> \"Ch-ch-changes\"\n",
    ">\n",
    ">   *--David Bowie*"
   ]
  },
  {
   "cell_type": "markdown",
   "metadata": {
    "slideshow": {
     "slide_type": "subslide"
    }
   },
   "source": [
    "![GitHub repo QR](../images/ilgisa-2022-qr.png)\n",
    "\n",
    "https://github.com/jdcarls2/ilgisa-2022"
   ]
  },
  {
   "cell_type": "markdown",
   "metadata": {
    "slideshow": {
     "slide_type": "slide"
    }
   },
   "source": [
    "# What is a change record?\n",
    "\n",
    "Literally, a record detailing some change. Specifically to the features in our tax maps. The change record should clearly convey:\n",
    "\n",
    "- Features created, modified, or retired\n",
    "- When the change occurred\n",
    "- Relevant documents\n",
    "- Additional notes that help to understand the change, if not obvious"
   ]
  },
  {
   "cell_type": "markdown",
   "metadata": {
    "slideshow": {
     "slide_type": "slide"
    }
   },
   "source": [
    "# The Bad Old Days\n",
    "\n",
    "How did changes get conveyed or recorded in the past? For KCGIS, we actually have about 40 years' worth of change records that we've scanned in as PDFs. Here's a sampling:\n",
    "\n",
    "[Parcel Control Book](./01-01-200.pdf)\n",
    "\n",
    "[1997](./1997000042.pdf)\n",
    "\n",
    "[2004](./2004_07207.PDF)\n",
    "\n",
    "[2017](./201700015809.PDF)\n",
    "\n",
    "[2018](./201800013813.pdf)"
   ]
  },
  {
   "cell_type": "markdown",
   "metadata": {
    "slideshow": {
     "slide_type": "slide"
    }
   },
   "source": [
    "# Changing the Change Records"
   ]
  },
  {
   "cell_type": "markdown",
   "metadata": {
    "slideshow": {
     "slide_type": "subslide"
    }
   },
   "source": [
    "## The Parcel Fabric(s)\n",
    "\n",
    "In 2020, Kendall County moved our cadastral data to the ArcGIS Pro Parcel Fabric. (Previously, it was in a topology-enabled feature dataset.)\n",
    "\n",
    "Among other things, this brought us a built-in means to:\n",
    "1. Maintain historic features\n",
    "1. Associate features with the records that created or retired them\n",
    "\n",
    "Later in 2021, we created a *second* parcel fabric to begin historic tracking of changes to layers like zoning, taxing body annexations, etc., as we found there was interest in having the same record-based history for these features, too."
   ]
  },
  {
   "cell_type": "markdown",
   "metadata": {
    "slideshow": {
     "slide_type": "subslide"
    }
   },
   "source": [
    "## End Users\n",
    "\n",
    "Originally, change records were almost exclusively for our township assessors, to notify them of parcels that were retired or created in their area. These records would include some data from our assessments database to facilitate this. Some included maps.\n",
    "\n",
    "Over time, we have found that a clear record of changes is beneficial to *many* other internal and external users, such as:\n",
    "\n",
    "- Zoning and Health departments\n",
    "- State's Attorney's office\n",
    "- Municipalities\n",
    "- Self-proclaimed \"watchdogs\"\n",
    "- Literally anyone who is curious\n",
    "\n",
    "So we wanted something that would be accessible and useful to these folks, too."
   ]
  },
  {
   "cell_type": "markdown",
   "metadata": {
    "slideshow": {
     "slide_type": "subslide"
    }
   },
   "source": [
    "## Web Maps\n",
    "\n",
    "We already had a bunch of maps and layers on our portal that were being used by all those departments and members of the public alike, so we figured: why not bring those record attributes into those maps?\n",
    "\n",
    "Couldn't we use those `createdbyrecord` and `retiredbyrecord` fields to do something more engaging?\n",
    "\n",
    "So we decided to make an web app!"
   ]
  },
  {
   "cell_type": "markdown",
   "metadata": {
    "slideshow": {
     "slide_type": "subslide"
    }
   },
   "source": [
    "## Why do this?\n",
    "\n",
    "- Increases transparency\n",
    "- Gives tools to other stakeholders, reducing calls/emails requesting information\n",
    "- No files to store (or replace if corrections are made)\n",
    "- I don't have to do any extra work!"
   ]
  },
  {
   "cell_type": "markdown",
   "metadata": {},
   "source": [
    "# Enough Notes, Let's See The Thing!"
   ]
  },
  {
   "cell_type": "markdown",
   "metadata": {},
   "source": [
    "![DCR QR](../images/dcr-qr.png)\n",
    "\n",
    "https://maps.co.kendall.il.us/digital-change-record"
   ]
  }
 ],
 "metadata": {
  "celltoolbar": "Slideshow",
  "kernelspec": {
   "display_name": "Python 3 (ipykernel)",
   "language": "python",
   "name": "python3"
  },
  "language_info": {
   "codemirror_mode": {
    "name": "ipython",
    "version": 3
   },
   "file_extension": ".py",
   "mimetype": "text/x-python",
   "name": "python",
   "nbconvert_exporter": "python",
   "pygments_lexer": "ipython3",
   "version": "3.10.6"
  },
  "vscode": {
   "interpreter": {
    "hash": "ad2bdc8ecc057115af97d19610ffacc2b4e99fae6737bb82f5d7fb13d2f2c186"
   }
  }
 },
 "nbformat": 4,
 "nbformat_minor": 2
}
