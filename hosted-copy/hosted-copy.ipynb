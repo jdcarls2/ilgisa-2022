{
 "cells": [
  {
   "cell_type": "markdown",
   "metadata": {
    "slideshow": {
     "slide_type": "slide"
    }
   },
   "source": [
    "# Hosted Copies, Targeted Updates\n",
    "\n",
    "## An Alternative, Efficient ETL Strategy with Python"
   ]
  },
  {
   "cell_type": "markdown",
   "metadata": {
    "slideshow": {
     "slide_type": "subslide"
    }
   },
   "source": [
    "![ILGISA 2022 GitHub Repo QR](../images/ilgisa-2022-qr.png)\n",
    "\n",
    "# https://github.com/jdcarls2/ilgisa-2022"
   ]
  },
  {
   "cell_type": "markdown",
   "metadata": {
    "slideshow": {
     "slide_type": "notes"
    }
   },
   "source": [
    "Two things to note at the top:\n",
    "1. Slides and various files are available at the GitHub repo linked here.\n",
    "2. This is **not** a Python workshop! See the repo if you want all the gorey details, but in the interest of time, I won't necessarily be explaining everything in great detail."
   ]
  },
  {
   "cell_type": "markdown",
   "metadata": {
    "slideshow": {
     "slide_type": "subslide"
    }
   },
   "source": [
    "# Outline\n",
    "\n",
    "1. What's a \"hosted copy\"?\n",
    "2. Common Approaches\n",
    "3. The Process\n",
    "4. Discussion\n",
    "5. Questions?"
   ]
  },
  {
   "cell_type": "markdown",
   "metadata": {
    "slideshow": {
     "slide_type": "slide"
    }
   },
   "source": [
    "# What is a \"hosted copy\", anyway?"
   ]
  },
  {
   "cell_type": "markdown",
   "metadata": {
    "slideshow": {
     "slide_type": "subslide"
    }
   },
   "source": [
    "## A Common Problem\n",
    "\n",
    "An organization (say, a county) has datasets that they wish to make available to the public.\n",
    "\n",
    "*However!*\n",
    "\n",
    "The authoritative source(s) is/are:\n",
    "- Not available to register with ArcGIS Server\n",
    "- Too sensitive to expose outside your organization's network\n",
    "- Not in the same place (i.e., a SQL view layer is not possible)"
   ]
  },
  {
   "cell_type": "markdown",
   "metadata": {
    "slideshow": {
     "slide_type": "notes"
    }
   },
   "source": [
    "A prime example of this would be CAMA data. The geographic element comes from our own GIS layers, but the rest of the data comes from multiple tables across a database and file-based data sources, all of which need to be harmonized together."
   ]
  },
  {
   "cell_type": "markdown",
   "metadata": {
    "slideshow": {
     "slide_type": "subslide"
    }
   },
   "source": [
    "## A Common Solution\n",
    "\n",
    "The organization publishes a \"hosted copy\" of the data to ArcGIS Online / Portal. The data is loaded into ArcGIS Datastore and served from there.\n",
    "\n",
    "Now the public can see and interact with the dataset, but the authoritative source remains inaccessible to the rest of the internet. All is well!"
   ]
  },
  {
   "cell_type": "markdown",
   "metadata": {
    "slideshow": {
     "slide_type": "subslide"
    }
   },
   "source": [
    "## A New Problem!\n",
    "\n",
    "Suppose the organization's authoritative source is *dynamic*.\n",
    "\n",
    "How can updates be passed to the hosted layer to ensure that the public sees the most current information?"
   ]
  },
  {
   "cell_type": "markdown",
   "metadata": {
    "slideshow": {
     "slide_type": "slide"
    }
   },
   "source": [
    "# Common Approaches"
   ]
  },
  {
   "cell_type": "markdown",
   "metadata": {
    "slideshow": {
     "slide_type": "subslide"
    }
   },
   "source": [
    "## Overwriting Your Service"
   ]
  },
  {
   "cell_type": "markdown",
   "metadata": {
    "slideshow": {
     "slide_type": "subslide"
    }
   },
   "source": [
    "**Don't do this!**\n",
    "\n",
    "When you overwrite a service (*usually done from your desktop software or via `arcpy`*), literally **everything** about the service is wiped out and re-created except for the portal ItemID and the service URL.\n",
    "\n",
    "**It's like bulldozing your house so you can re-paint the kitchen.**"
   ]
  },
  {
   "cell_type": "markdown",
   "metadata": {
    "slideshow": {
     "slide_type": "subslide"
    }
   },
   "source": [
    "### When does it make sense?\n",
    "\n",
    "With hosted layers, this process is necessary if your service:\n",
    "- Has changed the order / number of its layers\n",
    "- Has changes to relationship classes\n",
    "\n",
    "Still, you may be better off making a brand new layer."
   ]
  },
  {
   "cell_type": "markdown",
   "metadata": {
    "slideshow": {
     "slide_type": "subslide"
    }
   },
   "source": [
    "### When does it *not* make sense?\n",
    "\n",
    "- Schema alterations\n",
    "- Upated features or attributes\n",
    "- Default symbology / label / popup changes\n",
    "\n",
    "Portal & AGOL have built-in ways to manage *all* of these. You're much better off making parallel changes to your hosted layer than burning it down."
   ]
  },
  {
   "cell_type": "markdown",
   "metadata": {
    "slideshow": {
     "slide_type": "subslide"
    }
   },
   "source": [
    "## Truncate / Append"
   ]
  },
  {
   "cell_type": "markdown",
   "metadata": {
    "slideshow": {
     "slide_type": "fragment"
    }
   },
   "source": [
    "This method leaves the layer and its schema intact and simply *empties* the layer of all its data, then loads in a fresh set.\n",
    "\n",
    "In keeping with the house analogy, this is less drastic than bulldozing. It's more like moving all your furniture out of the house, replacing a chair, then putting it all back.\n",
    "\n",
    "It's a *much* safer approach."
   ]
  },
  {
   "cell_type": "markdown",
   "metadata": {
    "slideshow": {
     "slide_type": "slide"
    }
   },
   "source": [
    "# Targeted Updates"
   ]
  },
  {
   "cell_type": "markdown",
   "metadata": {
    "slideshow": {
     "slide_type": "subslide"
    }
   },
   "source": [
    "## What's different about this method?"
   ]
  },
  {
   "cell_type": "markdown",
   "metadata": {
    "slideshow": {
     "slide_type": "fragment"
    }
   },
   "source": [
    "- Compares source / destination data and specifically identifies \"stale\" rows\n",
    "- Identifies adds / deletes\n",
    "- Passes data directly into the destination layer without a separate upload / layer needing to be created\n",
    "- Can run *per source* on a subset of fields"
   ]
  },
  {
   "cell_type": "markdown",
   "metadata": {
    "slideshow": {
     "slide_type": "subslide"
    }
   },
   "source": [
    "![Diagram of the merge / append model](../images/join-append.png)"
   ]
  },
  {
   "cell_type": "markdown",
   "metadata": {
    "slideshow": {
     "slide_type": "subslide"
    }
   },
   "source": [
    "![Direct Edit model](../images/direct-edit.png)"
   ]
  },
  {
   "cell_type": "markdown",
   "metadata": {
    "slideshow": {
     "slide_type": "subslide"
    }
   },
   "source": [
    "## Key Benefits"
   ]
  },
  {
   "cell_type": "markdown",
   "metadata": {
    "slideshow": {
     "slide_type": "fragment"
    }
   },
   "source": [
    "Even very large datasets can be refreshed in only a few minutes."
   ]
  },
  {
   "cell_type": "markdown",
   "metadata": {
    "slideshow": {
     "slide_type": "notes"
    }
   },
   "source": [
    "We have a parcel layer with about 50,000 active parcels in it. On an ordinary day, maybe 300 or so parcels see some kind of relevant change to owner, address, assessment, etc. These updates take *seconds* to perform.\n",
    "\n",
    "Recently, we published the 2022 assessments, and our Supervisor of Assessments requested that the web layer reflect the new assessment numbers. This caused about 48,000 parcels to need a few attributes updated. (Some parcels' assessments did not change from 2021 to 2022, hence the gap.)\n",
    "\n",
    "This update of essentially every parcel in the layer successfully completed in under 3 minutes."
   ]
  },
  {
   "cell_type": "markdown",
   "metadata": {
    "slideshow": {
     "slide_type": "fragment"
    }
   },
   "source": [
    "There is *never* a moment when the layer is unresponsive or emptied of its data."
   ]
  },
  {
   "cell_type": "markdown",
   "metadata": {
    "slideshow": {
     "slide_type": "notes"
    }
   },
   "source": [
    "That's important because it means these sorts of updates can happen at *any time*, and your end users won't even know it's happening.\n",
    "\n",
    "In the earlier example of the 48,000 parcels updating? That was done *in the middle of the day*.\n",
    "\n",
    "In fact, there's no reason some of these processes couldn't happen multiple times a day. The lag time between a change being made in the assessments database and it showing up on the map could be measured in *minutes*, if I felt like scheduling the script to run that often."
   ]
  },
  {
   "cell_type": "markdown",
   "metadata": {
    "slideshow": {
     "slide_type": "fragment"
    }
   },
   "source": [
    "Total server traffic and server-side processing is dramatically diminished."
   ]
  },
  {
   "cell_type": "markdown",
   "metadata": {
    "slideshow": {
     "slide_type": "notes"
    }
   },
   "source": [
    "Probably goes without saying, but anything you can do to reduce the workload on your Server machine is a good thing."
   ]
  },
  {
   "cell_type": "markdown",
   "metadata": {
    "slideshow": {
     "slide_type": "subslide"
    }
   },
   "source": [
    "## Requirements"
   ]
  },
  {
   "cell_type": "markdown",
   "metadata": {
    "slideshow": {
     "slide_type": "fragment"
    }
   },
   "source": [
    "- Environment\n",
    "    - ArcGIS Python API\n",
    "    - Access to source data\n",
    "    - Portal / AGOL authentication"
   ]
  },
  {
   "cell_type": "markdown",
   "metadata": {
    "slideshow": {
     "slide_type": "fragment"
    }
   },
   "source": [
    "- Non-Spatial Data Layers\n",
    "    - Shared primary key between source(s) and destination\n",
    "- Spatial Data Layers\n",
    "    - Editor Tracking Timestamps\n",
    "    - GloablID and GUID field on source and destination, respectively"
   ]
  },
  {
   "cell_type": "markdown",
   "metadata": {
    "slideshow": {
     "slide_type": "slide"
    }
   },
   "source": [
    "# The Process: Prep Work"
   ]
  },
  {
   "cell_type": "code",
   "execution_count": 48,
   "metadata": {
    "slideshow": {
     "slide_type": "-"
    }
   },
   "outputs": [
    {
     "data": {
      "text/html": [
       "<div class=\"item_container\" style=\"height: auto; overflow: hidden; border: 1px solid #cfcfcf; border-radius: 2px; background: #f6fafa; line-height: 1.21429em; padding: 10px;\">\n",
       "                    <div class=\"item_left\" style=\"width: 210px; float: left;\">\n",
       "                       <a href='https://kendall.maps.arcgis.com/home/item.html?id=5ab5004c86f341278c6b1d996e551cb4' target='_blank'>\n",
       "                        <img src='data:image/png;base64,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' width='200' height='133' class=\"itemThumbnail\">\n",
       "                       </a>\n",
       "                    </div>\n",
       "\n",
       "                    <div class=\"item_right\"     style=\"float: none; width: auto; overflow: hidden;\">\n",
       "                        <a href='https://kendall.maps.arcgis.com/home/item.html?id=5ab5004c86f341278c6b1d996e551cb4' target='_blank'><b>Parcels_ILGISA_Demo</b>\n",
       "                        </a>\n",
       "                        <br/>DEMO LAYER.\n",
       "\n",
       "This is not a real layer of parcels. It was created for demonstration purposes only.<img src='https://kendall.maps.arcgis.com/home/js/jsapi/esri/css/images/item_type_icons/featureshosted16.png' style=\"vertical-align:middle;\">Feature Layer Collection by carlsonj9\n",
       "                        <br/>Last Modified: October 11, 2022\n",
       "                        <br/>0 comments, 20 views\n",
       "                    </div>\n",
       "                </div>\n",
       "                "
      ],
      "text/plain": [
       "<Item title:\"Parcels_ILGISA_Demo\" type:Feature Layer Collection owner:carlsonj9>"
      ]
     },
     "execution_count": 48,
     "metadata": {},
     "output_type": "execute_result"
    }
   ],
   "source": [
    "# Required Modules\n",
    "from arcgis.gis import GIS\n",
    "from arcgis.features import GeoAccessor\n",
    "import pandas as pd\n",
    "\n",
    "# Connect to AGOL\n",
    "gis = GIS(profile='AGOL')\n",
    "\n",
    "# Get Destination Layer\n",
    "dest = gis.content.get('5ab5004c86f341278c6b1d996e551cb4')\n",
    "\n",
    "dest"
   ]
  },
  {
   "cell_type": "markdown",
   "metadata": {
    "slideshow": {
     "slide_type": "subslide"
    }
   },
   "source": [
    "## Pulling Source Data"
   ]
  },
  {
   "cell_type": "markdown",
   "metadata": {},
   "source": [
    "### From Spatial File"
   ]
  },
  {
   "cell_type": "code",
   "execution_count": 70,
   "metadata": {},
   "outputs": [
    {
     "data": {
      "text/html": [
       "<div>\n",
       "<style scoped>\n",
       "    .dataframe tbody tr th:only-of-type {\n",
       "        vertical-align: middle;\n",
       "    }\n",
       "\n",
       "    .dataframe tbody tr th {\n",
       "        vertical-align: top;\n",
       "    }\n",
       "\n",
       "    .dataframe thead th {\n",
       "        text-align: right;\n",
       "    }\n",
       "</style>\n",
       "<table border=\"1\" class=\"dataframe\">\n",
       "  <thead>\n",
       "    <tr style=\"text-align: right;\">\n",
       "      <th></th>\n",
       "      <th>Shape_Length</th>\n",
       "      <th>Shape_Area</th>\n",
       "      <th>GlobalID</th>\n",
       "      <th>pin</th>\n",
       "      <th>created_user</th>\n",
       "      <th>created_date</th>\n",
       "      <th>last_edited_user</th>\n",
       "      <th>last_edited_date</th>\n",
       "      <th>SHAPE</th>\n",
       "    </tr>\n",
       "  </thead>\n",
       "  <tbody>\n",
       "    <tr>\n",
       "      <th>0</th>\n",
       "      <td>5276.864891</td>\n",
       "      <td>1.100042e+06</td>\n",
       "      <td>{31FD8039-5E6A-4668-B4A0-037CF22F4451}</td>\n",
       "      <td>01-06-100-001</td>\n",
       "      <td>JCARLSON</td>\n",
       "      <td>2022-10-12T03:03:49+00:00</td>\n",
       "      <td>JCARLSON</td>\n",
       "      <td>2022-10-12T03:03:49+00:00</td>\n",
       "      <td>{\"rings\": [[[910927.6100513302, 1838427.720154...</td>\n",
       "    </tr>\n",
       "    <tr>\n",
       "      <th>1</th>\n",
       "      <td>1933.037037</td>\n",
       "      <td>2.192212e+05</td>\n",
       "      <td>{064B7505-4399-4DA3-91AA-1048943A82DB}</td>\n",
       "      <td>01-06-100-014</td>\n",
       "      <td>JCARLSON</td>\n",
       "      <td>2022-10-12T03:03:49+00:00</td>\n",
       "      <td>JCARLSON</td>\n",
       "      <td>2022-10-12T03:03:49+00:00</td>\n",
       "      <td>{\"rings\": [[[913069.6894285791, 1838405.293033...</td>\n",
       "    </tr>\n",
       "    <tr>\n",
       "      <th>2</th>\n",
       "      <td>2958.945676</td>\n",
       "      <td>4.981201e+05</td>\n",
       "      <td>{9E897663-5DC9-4F8B-ACB1-DB29CFBA0A26}</td>\n",
       "      <td>01-06-200-002</td>\n",
       "      <td>JCARLSON</td>\n",
       "      <td>2022-10-12T03:03:49+00:00</td>\n",
       "      <td>JCARLSON</td>\n",
       "      <td>2022-10-12T03:03:49+00:00</td>\n",
       "      <td>{\"rings\": [[[914855.5198464133, 1839151.150137...</td>\n",
       "    </tr>\n",
       "    <tr>\n",
       "      <th>3</th>\n",
       "      <td>7990.099714</td>\n",
       "      <td>3.220557e+06</td>\n",
       "      <td>{0D0B143F-C3ED-4AFD-B5E1-968977CFB693}</td>\n",
       "      <td>01-06-200-012</td>\n",
       "      <td>JCARLSON</td>\n",
       "      <td>2022-10-12T03:03:49+00:00</td>\n",
       "      <td>JCARLSON</td>\n",
       "      <td>2022-10-12T03:03:49+00:00</td>\n",
       "      <td>{\"rings\": [[[915239.6099574938, 1840128.820098...</td>\n",
       "    </tr>\n",
       "    <tr>\n",
       "      <th>4</th>\n",
       "      <td>1308.180869</td>\n",
       "      <td>1.064012e+05</td>\n",
       "      <td>{7E0DBA9F-5804-4DBD-A808-17DADD359C3C}</td>\n",
       "      <td>01-06-300-004</td>\n",
       "      <td>JCARLSON</td>\n",
       "      <td>2022-10-12T03:03:49+00:00</td>\n",
       "      <td>JCARLSON</td>\n",
       "      <td>2022-10-12T03:03:49+00:00</td>\n",
       "      <td>{\"rings\": [[[914016.6399624944, 1836439.480036...</td>\n",
       "    </tr>\n",
       "  </tbody>\n",
       "</table>\n",
       "</div>"
      ],
      "text/plain": [
       "   Shape_Length    Shape_Area                                GlobalID  \\\n",
       "0   5276.864891  1.100042e+06  {31FD8039-5E6A-4668-B4A0-037CF22F4451}   \n",
       "1   1933.037037  2.192212e+05  {064B7505-4399-4DA3-91AA-1048943A82DB}   \n",
       "2   2958.945676  4.981201e+05  {9E897663-5DC9-4F8B-ACB1-DB29CFBA0A26}   \n",
       "3   7990.099714  3.220557e+06  {0D0B143F-C3ED-4AFD-B5E1-968977CFB693}   \n",
       "4   1308.180869  1.064012e+05  {7E0DBA9F-5804-4DBD-A808-17DADD359C3C}   \n",
       "\n",
       "             pin created_user               created_date last_edited_user  \\\n",
       "0  01-06-100-001     JCARLSON  2022-10-12T03:03:49+00:00         JCARLSON   \n",
       "1  01-06-100-014     JCARLSON  2022-10-12T03:03:49+00:00         JCARLSON   \n",
       "2  01-06-200-002     JCARLSON  2022-10-12T03:03:49+00:00         JCARLSON   \n",
       "3  01-06-200-012     JCARLSON  2022-10-12T03:03:49+00:00         JCARLSON   \n",
       "4  01-06-300-004     JCARLSON  2022-10-12T03:03:49+00:00         JCARLSON   \n",
       "\n",
       "            last_edited_date  \\\n",
       "0  2022-10-12T03:03:49+00:00   \n",
       "1  2022-10-12T03:03:49+00:00   \n",
       "2  2022-10-12T03:03:49+00:00   \n",
       "3  2022-10-12T03:03:49+00:00   \n",
       "4  2022-10-12T03:03:49+00:00   \n",
       "\n",
       "                                               SHAPE  \n",
       "0  {\"rings\": [[[910927.6100513302, 1838427.720154...  \n",
       "1  {\"rings\": [[[913069.6894285791, 1838405.293033...  \n",
       "2  {\"rings\": [[[914855.5198464133, 1839151.150137...  \n",
       "3  {\"rings\": [[[915239.6099574938, 1840128.820098...  \n",
       "4  {\"rings\": [[[914016.6399624944, 1836439.480036...  "
      ]
     },
     "execution_count": 70,
     "metadata": {},
     "output_type": "execute_result"
    }
   ],
   "source": [
    "p_df = GeoAccessor.from_featureclass('../data-files/ilgisa.gdb/parcels')\n",
    "\n",
    "p_df.head()"
   ]
  },
  {
   "cell_type": "markdown",
   "metadata": {
    "slideshow": {
     "slide_type": "subslide"
    }
   },
   "source": [
    "### From Non-Spatial Files"
   ]
  },
  {
   "cell_type": "code",
   "execution_count": 107,
   "metadata": {},
   "outputs": [
    {
     "data": {
      "text/html": [
       "<div>\n",
       "<style scoped>\n",
       "    .dataframe tbody tr th:only-of-type {\n",
       "        vertical-align: middle;\n",
       "    }\n",
       "\n",
       "    .dataframe tbody tr th {\n",
       "        vertical-align: top;\n",
       "    }\n",
       "\n",
       "    .dataframe thead th {\n",
       "        text-align: right;\n",
       "    }\n",
       "</style>\n",
       "<table border=\"1\" class=\"dataframe\">\n",
       "  <thead>\n",
       "    <tr style=\"text-align: right;\">\n",
       "      <th></th>\n",
       "      <th>pin</th>\n",
       "      <th>property_class</th>\n",
       "      <th>assessed_value</th>\n",
       "      <th>owner_name</th>\n",
       "      <th>tax_code</th>\n",
       "    </tr>\n",
       "    <tr>\n",
       "      <th>pin</th>\n",
       "      <th></th>\n",
       "      <th></th>\n",
       "      <th></th>\n",
       "      <th></th>\n",
       "      <th></th>\n",
       "    </tr>\n",
       "  </thead>\n",
       "  <tbody>\n",
       "    <tr>\n",
       "      <th>01-06-100-001</th>\n",
       "      <td>01-06-100-001</td>\n",
       "      <td>40</td>\n",
       "      <td>39603</td>\n",
       "      <td>Tylor Y Mercado</td>\n",
       "      <td>LR001</td>\n",
       "    </tr>\n",
       "    <tr>\n",
       "      <th>01-06-100-014</th>\n",
       "      <td>01-06-100-014</td>\n",
       "      <td>11</td>\n",
       "      <td>47075</td>\n",
       "      <td>Johnathon R Corbett</td>\n",
       "      <td>LR001</td>\n",
       "    </tr>\n",
       "    <tr>\n",
       "      <th>01-06-200-002</th>\n",
       "      <td>01-06-200-002</td>\n",
       "      <td>21</td>\n",
       "      <td>14216</td>\n",
       "      <td>Odalys Hope</td>\n",
       "      <td>NaN</td>\n",
       "    </tr>\n",
       "    <tr>\n",
       "      <th>01-06-200-012</th>\n",
       "      <td>01-06-200-012</td>\n",
       "      <td>21</td>\n",
       "      <td>2660</td>\n",
       "      <td>Giavanna J Richmond</td>\n",
       "      <td>NaN</td>\n",
       "    </tr>\n",
       "    <tr>\n",
       "      <th>01-06-300-004</th>\n",
       "      <td>01-06-300-004</td>\n",
       "      <td>11</td>\n",
       "      <td>86255</td>\n",
       "      <td>Matthias Gallant</td>\n",
       "      <td>LR001</td>\n",
       "    </tr>\n",
       "  </tbody>\n",
       "</table>\n",
       "</div>"
      ],
      "text/plain": [
       "                         pin  property_class  assessed_value  \\\n",
       "pin                                                            \n",
       "01-06-100-001  01-06-100-001              40           39603   \n",
       "01-06-100-014  01-06-100-014              11           47075   \n",
       "01-06-200-002  01-06-200-002              21           14216   \n",
       "01-06-200-012  01-06-200-012              21            2660   \n",
       "01-06-300-004  01-06-300-004              11           86255   \n",
       "\n",
       "                        owner_name tax_code  \n",
       "pin                                          \n",
       "01-06-100-001      Tylor Y Mercado    LR001  \n",
       "01-06-100-014  Johnathon R Corbett    LR001  \n",
       "01-06-200-002          Odalys Hope      NaN  \n",
       "01-06-200-012  Giavanna J Richmond      NaN  \n",
       "01-06-300-004     Matthias Gallant    LR001  "
      ]
     },
     "execution_count": 107,
     "metadata": {},
     "output_type": "execute_result"
    }
   ],
   "source": [
    "a_df = pd.read_excel('../data-files/assessments.xlsx')\n",
    "\n",
    "a_df.rename(columns={'parcel_number':'pin'}, inplace=True)\n",
    "\n",
    "a_df.set_index('pin', inplace=True, drop=False)\n",
    "\n",
    "a_df.head()"
   ]
  },
  {
   "cell_type": "code",
   "execution_count": 108,
   "metadata": {},
   "outputs": [
    {
     "data": {
      "text/html": [
       "<div>\n",
       "<style scoped>\n",
       "    .dataframe tbody tr th:only-of-type {\n",
       "        vertical-align: middle;\n",
       "    }\n",
       "\n",
       "    .dataframe tbody tr th {\n",
       "        vertical-align: top;\n",
       "    }\n",
       "\n",
       "    .dataframe thead th {\n",
       "        text-align: right;\n",
       "    }\n",
       "</style>\n",
       "<table border=\"1\" class=\"dataframe\">\n",
       "  <thead>\n",
       "    <tr style=\"text-align: right;\">\n",
       "      <th></th>\n",
       "      <th>pin</th>\n",
       "      <th>structure_type</th>\n",
       "      <th>description</th>\n",
       "      <th>sq_ft</th>\n",
       "      <th>beds</th>\n",
       "      <th>baths</th>\n",
       "      <th>h_baths</th>\n",
       "      <th>primary_yn</th>\n",
       "    </tr>\n",
       "    <tr>\n",
       "      <th>pin</th>\n",
       "      <th></th>\n",
       "      <th></th>\n",
       "      <th></th>\n",
       "      <th></th>\n",
       "      <th></th>\n",
       "      <th></th>\n",
       "      <th></th>\n",
       "      <th></th>\n",
       "    </tr>\n",
       "  </thead>\n",
       "  <tbody>\n",
       "    <tr>\n",
       "      <th>01-06-100-001</th>\n",
       "      <td>01-06-100-001</td>\n",
       "      <td>1 story</td>\n",
       "      <td>NaN</td>\n",
       "      <td>1250</td>\n",
       "      <td>2.0</td>\n",
       "      <td>1.0</td>\n",
       "      <td>1.0</td>\n",
       "      <td>y</td>\n",
       "    </tr>\n",
       "    <tr>\n",
       "      <th>01-06-100-014</th>\n",
       "      <td>01-06-100-014</td>\n",
       "      <td>2 story</td>\n",
       "      <td>NaN</td>\n",
       "      <td>2200</td>\n",
       "      <td>4.0</td>\n",
       "      <td>2.0</td>\n",
       "      <td>1.0</td>\n",
       "      <td>y</td>\n",
       "    </tr>\n",
       "    <tr>\n",
       "      <th>01-06-300-004</th>\n",
       "      <td>01-06-300-004</td>\n",
       "      <td>2 story</td>\n",
       "      <td>NaN</td>\n",
       "      <td>2100</td>\n",
       "      <td>5.0</td>\n",
       "      <td>3.0</td>\n",
       "      <td>0.0</td>\n",
       "      <td>y</td>\n",
       "    </tr>\n",
       "    <tr>\n",
       "      <th>01-06-300-004</th>\n",
       "      <td>01-06-300-004</td>\n",
       "      <td>other</td>\n",
       "      <td>pole barn</td>\n",
       "      <td>3000</td>\n",
       "      <td>NaN</td>\n",
       "      <td>NaN</td>\n",
       "      <td>NaN</td>\n",
       "      <td>n</td>\n",
       "    </tr>\n",
       "    <tr>\n",
       "      <th>01-06-300-004</th>\n",
       "      <td>01-06-300-004</td>\n",
       "      <td>other</td>\n",
       "      <td>shed</td>\n",
       "      <td>350</td>\n",
       "      <td>NaN</td>\n",
       "      <td>NaN</td>\n",
       "      <td>NaN</td>\n",
       "      <td>n</td>\n",
       "    </tr>\n",
       "  </tbody>\n",
       "</table>\n",
       "</div>"
      ],
      "text/plain": [
       "                         pin structure_type description  sq_ft  beds  baths  \\\n",
       "pin                                                                           \n",
       "01-06-100-001  01-06-100-001        1 story         NaN   1250   2.0    1.0   \n",
       "01-06-100-014  01-06-100-014        2 story         NaN   2200   4.0    2.0   \n",
       "01-06-300-004  01-06-300-004        2 story         NaN   2100   5.0    3.0   \n",
       "01-06-300-004  01-06-300-004          other   pole barn   3000   NaN    NaN   \n",
       "01-06-300-004  01-06-300-004          other        shed    350   NaN    NaN   \n",
       "\n",
       "               h_baths primary_yn  \n",
       "pin                                \n",
       "01-06-100-001      1.0          y  \n",
       "01-06-100-014      1.0          y  \n",
       "01-06-300-004      0.0          y  \n",
       "01-06-300-004      NaN          n  \n",
       "01-06-300-004      NaN          n  "
      ]
     },
     "execution_count": 108,
     "metadata": {},
     "output_type": "execute_result"
    }
   ],
   "source": [
    "s_df = pd.read_csv('../data-files/structures.csv').set_index('pin', drop=False)\n",
    "\n",
    "s_df.head()"
   ]
  },
  {
   "cell_type": "markdown",
   "metadata": {
    "slideshow": {
     "slide_type": "slide"
    }
   },
   "source": [
    "# The Process: Comparisons"
   ]
  },
  {
   "cell_type": "markdown",
   "metadata": {
    "slideshow": {
     "slide_type": "subslide"
    }
   },
   "source": [
    "## Assessment Data"
   ]
  },
  {
   "cell_type": "markdown",
   "metadata": {
    "slideshow": {
     "slide_type": "-"
    }
   },
   "source": [
    "### Reshape Data\n",
    "\n",
    "For an accurate comparison, we need our frames to be the same *shape*. We will do this by:\n",
    "1. Only looking at destination columns in common with the source\n",
    "1. Only including rows common to both"
   ]
  },
  {
   "cell_type": "code",
   "execution_count": 110,
   "metadata": {
    "slideshow": {
     "slide_type": "subslide"
    }
   },
   "outputs": [
    {
     "data": {
      "text/html": [
       "<div>\n",
       "<style scoped>\n",
       "    .dataframe tbody tr th:only-of-type {\n",
       "        vertical-align: middle;\n",
       "    }\n",
       "\n",
       "    .dataframe tbody tr th {\n",
       "        vertical-align: top;\n",
       "    }\n",
       "\n",
       "    .dataframe thead th {\n",
       "        text-align: right;\n",
       "    }\n",
       "</style>\n",
       "<table border=\"1\" class=\"dataframe\">\n",
       "  <thead>\n",
       "    <tr style=\"text-align: right;\">\n",
       "      <th></th>\n",
       "      <th>OBJECTID</th>\n",
       "      <th>pin</th>\n",
       "      <th>property_class</th>\n",
       "      <th>assessed_value</th>\n",
       "      <th>owner_name</th>\n",
       "      <th>tax_code</th>\n",
       "    </tr>\n",
       "    <tr>\n",
       "      <th>pin</th>\n",
       "      <th></th>\n",
       "      <th></th>\n",
       "      <th></th>\n",
       "      <th></th>\n",
       "      <th></th>\n",
       "      <th></th>\n",
       "    </tr>\n",
       "  </thead>\n",
       "  <tbody>\n",
       "    <tr>\n",
       "      <th>01-06-100-001</th>\n",
       "      <td>2</td>\n",
       "      <td>01-06-100-001</td>\n",
       "      <td>None</td>\n",
       "      <td>0</td>\n",
       "      <td>None</td>\n",
       "      <td>None</td>\n",
       "    </tr>\n",
       "    <tr>\n",
       "      <th>01-06-100-014</th>\n",
       "      <td>3</td>\n",
       "      <td>01-06-100-014</td>\n",
       "      <td>None</td>\n",
       "      <td>0</td>\n",
       "      <td>None</td>\n",
       "      <td>None</td>\n",
       "    </tr>\n",
       "    <tr>\n",
       "      <th>01-06-200-002</th>\n",
       "      <td>4</td>\n",
       "      <td>01-06-200-002</td>\n",
       "      <td>None</td>\n",
       "      <td>0</td>\n",
       "      <td>None</td>\n",
       "      <td>None</td>\n",
       "    </tr>\n",
       "    <tr>\n",
       "      <th>01-06-200-012</th>\n",
       "      <td>5</td>\n",
       "      <td>01-06-200-012</td>\n",
       "      <td>None</td>\n",
       "      <td>0</td>\n",
       "      <td>None</td>\n",
       "      <td>None</td>\n",
       "    </tr>\n",
       "    <tr>\n",
       "      <th>01-06-300-004</th>\n",
       "      <td>6</td>\n",
       "      <td>01-06-300-004</td>\n",
       "      <td>None</td>\n",
       "      <td>0</td>\n",
       "      <td>None</td>\n",
       "      <td>None</td>\n",
       "    </tr>\n",
       "  </tbody>\n",
       "</table>\n",
       "</div>"
      ],
      "text/plain": [
       "               OBJECTID            pin property_class  assessed_value  \\\n",
       "pin                                                                     \n",
       "01-06-100-001         2  01-06-100-001           None               0   \n",
       "01-06-100-014         3  01-06-100-014           None               0   \n",
       "01-06-200-002         4  01-06-200-002           None               0   \n",
       "01-06-200-012         5  01-06-200-012           None               0   \n",
       "01-06-300-004         6  01-06-300-004           None               0   \n",
       "\n",
       "              owner_name tax_code  \n",
       "pin                                \n",
       "01-06-100-001       None     None  \n",
       "01-06-100-014       None     None  \n",
       "01-06-200-002       None     None  \n",
       "01-06-200-012       None     None  \n",
       "01-06-300-004       None     None  "
      ]
     },
     "execution_count": 110,
     "metadata": {},
     "output_type": "execute_result"
    }
   ],
   "source": [
    "# Query destination, no shapes, subset of fields\n",
    "dest_a = dest.layers[0].query(\n",
    "    out_fields=a_df.columns.to_list(),\n",
    "    as_df=True,\n",
    "    return_geometry=False\n",
    ").set_index('pin', drop=False)\n",
    "\n",
    "dest_a.head()"
   ]
  },
  {
   "cell_type": "markdown",
   "metadata": {
    "slideshow": {
     "slide_type": "notes"
    }
   },
   "source": [
    "So there we have our destination layer, but just the fields we need, and no geometry."
   ]
  },
  {
   "cell_type": "code",
   "execution_count": 112,
   "metadata": {
    "slideshow": {
     "slide_type": "subslide"
    }
   },
   "outputs": [],
   "source": [
    "inner_a = a_df.merge(dest_a[['OBJECTID']], how='inner', left_index=True, right_index=True)"
   ]
  },
  {
   "cell_type": "code",
   "execution_count": 114,
   "metadata": {
    "slideshow": {
     "slide_type": "fragment"
    }
   },
   "outputs": [
    {
     "data": {
      "text/html": [
       "<div>\n",
       "<style scoped>\n",
       "    .dataframe tbody tr th:only-of-type {\n",
       "        vertical-align: middle;\n",
       "    }\n",
       "\n",
       "    .dataframe tbody tr th {\n",
       "        vertical-align: top;\n",
       "    }\n",
       "\n",
       "    .dataframe thead th {\n",
       "        text-align: right;\n",
       "    }\n",
       "</style>\n",
       "<table border=\"1\" class=\"dataframe\">\n",
       "  <thead>\n",
       "    <tr style=\"text-align: right;\">\n",
       "      <th></th>\n",
       "      <th>pin</th>\n",
       "      <th>property_class</th>\n",
       "      <th>assessed_value</th>\n",
       "      <th>owner_name</th>\n",
       "      <th>tax_code</th>\n",
       "      <th>OBJECTID</th>\n",
       "    </tr>\n",
       "    <tr>\n",
       "      <th>pin</th>\n",
       "      <th></th>\n",
       "      <th></th>\n",
       "      <th></th>\n",
       "      <th></th>\n",
       "      <th></th>\n",
       "      <th></th>\n",
       "    </tr>\n",
       "  </thead>\n",
       "  <tbody>\n",
       "    <tr>\n",
       "      <th>01-06-100-001</th>\n",
       "      <td>01-06-100-001</td>\n",
       "      <td>40</td>\n",
       "      <td>39603</td>\n",
       "      <td>Tylor Y Mercado</td>\n",
       "      <td>LR001</td>\n",
       "      <td>2</td>\n",
       "    </tr>\n",
       "    <tr>\n",
       "      <th>01-06-100-014</th>\n",
       "      <td>01-06-100-014</td>\n",
       "      <td>11</td>\n",
       "      <td>47075</td>\n",
       "      <td>Johnathon R Corbett</td>\n",
       "      <td>LR001</td>\n",
       "      <td>3</td>\n",
       "    </tr>\n",
       "    <tr>\n",
       "      <th>01-06-200-002</th>\n",
       "      <td>01-06-200-002</td>\n",
       "      <td>21</td>\n",
       "      <td>14216</td>\n",
       "      <td>Odalys Hope</td>\n",
       "      <td>NaN</td>\n",
       "      <td>4</td>\n",
       "    </tr>\n",
       "    <tr>\n",
       "      <th>01-06-200-012</th>\n",
       "      <td>01-06-200-012</td>\n",
       "      <td>21</td>\n",
       "      <td>2660</td>\n",
       "      <td>Giavanna J Richmond</td>\n",
       "      <td>NaN</td>\n",
       "      <td>5</td>\n",
       "    </tr>\n",
       "    <tr>\n",
       "      <th>01-06-300-004</th>\n",
       "      <td>01-06-300-004</td>\n",
       "      <td>11</td>\n",
       "      <td>86255</td>\n",
       "      <td>Matthias Gallant</td>\n",
       "      <td>LR001</td>\n",
       "      <td>6</td>\n",
       "    </tr>\n",
       "  </tbody>\n",
       "</table>\n",
       "</div>"
      ],
      "text/plain": [
       "                         pin  property_class  assessed_value  \\\n",
       "pin                                                            \n",
       "01-06-100-001  01-06-100-001              40           39603   \n",
       "01-06-100-014  01-06-100-014              11           47075   \n",
       "01-06-200-002  01-06-200-002              21           14216   \n",
       "01-06-200-012  01-06-200-012              21            2660   \n",
       "01-06-300-004  01-06-300-004              11           86255   \n",
       "\n",
       "                        owner_name tax_code  OBJECTID  \n",
       "pin                                                    \n",
       "01-06-100-001      Tylor Y Mercado    LR001         2  \n",
       "01-06-100-014  Johnathon R Corbett    LR001         3  \n",
       "01-06-200-002          Odalys Hope      NaN         4  \n",
       "01-06-200-012  Giavanna J Richmond      NaN         5  \n",
       "01-06-300-004     Matthias Gallant    LR001         6  "
      ]
     },
     "execution_count": 114,
     "metadata": {},
     "output_type": "execute_result"
    }
   ],
   "source": [
    "inner_a.head()"
   ]
  },
  {
   "cell_type": "markdown",
   "metadata": {
    "slideshow": {
     "slide_type": "notes"
    }
   },
   "source": [
    "Note here that by merging our frames using the `inner` method and subsetting the `OBJECTID` column of the destination, what we end up with here is our assessment data together with the corresponding OBJECTID in the destination. We can now use this to compare frames."
   ]
  },
  {
   "cell_type": "code",
   "execution_count": 120,
   "metadata": {},
   "outputs": [],
   "source": [
    "# Sort frames the same, just in case\n",
    "for df in [inner_a, dest_a]:\n",
    "    df.sort_index(inplace=True)\n",
    "    \n",
    "# Get columns in same order\n",
    "dest_a = dest_a[inner_a.columns.to_list()]"
   ]
  },
  {
   "cell_type": "code",
   "execution_count": 122,
   "metadata": {},
   "outputs": [
    {
     "data": {
      "text/html": [
       "<div>\n",
       "<style scoped>\n",
       "    .dataframe tbody tr th:only-of-type {\n",
       "        vertical-align: middle;\n",
       "    }\n",
       "\n",
       "    .dataframe tbody tr th {\n",
       "        vertical-align: top;\n",
       "    }\n",
       "\n",
       "    .dataframe thead tr th {\n",
       "        text-align: left;\n",
       "    }\n",
       "\n",
       "    .dataframe thead tr:last-of-type th {\n",
       "        text-align: right;\n",
       "    }\n",
       "</style>\n",
       "<table border=\"1\" class=\"dataframe\">\n",
       "  <thead>\n",
       "    <tr>\n",
       "      <th></th>\n",
       "      <th colspan=\"2\" halign=\"left\">property_class</th>\n",
       "      <th colspan=\"2\" halign=\"left\">assessed_value</th>\n",
       "      <th colspan=\"2\" halign=\"left\">owner_name</th>\n",
       "      <th colspan=\"2\" halign=\"left\">tax_code</th>\n",
       "    </tr>\n",
       "    <tr>\n",
       "      <th></th>\n",
       "      <th>self</th>\n",
       "      <th>other</th>\n",
       "      <th>self</th>\n",
       "      <th>other</th>\n",
       "      <th>self</th>\n",
       "      <th>other</th>\n",
       "      <th>self</th>\n",
       "      <th>other</th>\n",
       "    </tr>\n",
       "    <tr>\n",
       "      <th>pin</th>\n",
       "      <th></th>\n",
       "      <th></th>\n",
       "      <th></th>\n",
       "      <th></th>\n",
       "      <th></th>\n",
       "      <th></th>\n",
       "      <th></th>\n",
       "      <th></th>\n",
       "    </tr>\n",
       "  </thead>\n",
       "  <tbody>\n",
       "    <tr>\n",
       "      <th>01-06-100-001</th>\n",
       "      <td>40</td>\n",
       "      <td>None</td>\n",
       "      <td>39603</td>\n",
       "      <td>0</td>\n",
       "      <td>Tylor Y Mercado</td>\n",
       "      <td>None</td>\n",
       "      <td>LR001</td>\n",
       "      <td>None</td>\n",
       "    </tr>\n",
       "    <tr>\n",
       "      <th>01-06-100-003</th>\n",
       "      <td>30</td>\n",
       "      <td>None</td>\n",
       "      <td>33296</td>\n",
       "      <td>0</td>\n",
       "      <td>Carolina J Winston</td>\n",
       "      <td>None</td>\n",
       "      <td>NaN</td>\n",
       "      <td>None</td>\n",
       "    </tr>\n",
       "    <tr>\n",
       "      <th>01-06-100-004</th>\n",
       "      <td>11</td>\n",
       "      <td>None</td>\n",
       "      <td>13355</td>\n",
       "      <td>0</td>\n",
       "      <td>Berenice Prieto</td>\n",
       "      <td>None</td>\n",
       "      <td>LR001</td>\n",
       "      <td>None</td>\n",
       "    </tr>\n",
       "    <tr>\n",
       "      <th>01-06-100-005</th>\n",
       "      <td>30</td>\n",
       "      <td>None</td>\n",
       "      <td>88728</td>\n",
       "      <td>0</td>\n",
       "      <td>Wayne V Whitworth</td>\n",
       "      <td>None</td>\n",
       "      <td>NaN</td>\n",
       "      <td>None</td>\n",
       "    </tr>\n",
       "    <tr>\n",
       "      <th>01-06-100-006</th>\n",
       "      <td>11</td>\n",
       "      <td>None</td>\n",
       "      <td>42899</td>\n",
       "      <td>0</td>\n",
       "      <td>Bryce C Davies</td>\n",
       "      <td>None</td>\n",
       "      <td>LR001</td>\n",
       "      <td>None</td>\n",
       "    </tr>\n",
       "    <tr>\n",
       "      <th>01-06-100-011</th>\n",
       "      <td>11</td>\n",
       "      <td>None</td>\n",
       "      <td>59261</td>\n",
       "      <td>0</td>\n",
       "      <td>Malcolm E Eddy</td>\n",
       "      <td>None</td>\n",
       "      <td>LR003</td>\n",
       "      <td>None</td>\n",
       "    </tr>\n",
       "    <tr>\n",
       "      <th>01-06-100-012</th>\n",
       "      <td>21</td>\n",
       "      <td>None</td>\n",
       "      <td>90056</td>\n",
       "      <td>0</td>\n",
       "      <td>Morris C Pyle</td>\n",
       "      <td>None</td>\n",
       "      <td>NaN</td>\n",
       "      <td>None</td>\n",
       "    </tr>\n",
       "    <tr>\n",
       "      <th>01-06-100-013</th>\n",
       "      <td>40</td>\n",
       "      <td>None</td>\n",
       "      <td>94967</td>\n",
       "      <td>0</td>\n",
       "      <td>Felipe K Wolfe</td>\n",
       "      <td>None</td>\n",
       "      <td>LR001</td>\n",
       "      <td>None</td>\n",
       "    </tr>\n",
       "    <tr>\n",
       "      <th>01-06-100-014</th>\n",
       "      <td>11</td>\n",
       "      <td>None</td>\n",
       "      <td>47075</td>\n",
       "      <td>0</td>\n",
       "      <td>Johnathon R Corbett</td>\n",
       "      <td>None</td>\n",
       "      <td>LR001</td>\n",
       "      <td>None</td>\n",
       "    </tr>\n",
       "    <tr>\n",
       "      <th>01-06-100-015</th>\n",
       "      <td>21</td>\n",
       "      <td>None</td>\n",
       "      <td>33494</td>\n",
       "      <td>0</td>\n",
       "      <td>Zackary J Diamond</td>\n",
       "      <td>None</td>\n",
       "      <td>NaN</td>\n",
       "      <td>None</td>\n",
       "    </tr>\n",
       "    <tr>\n",
       "      <th>01-06-100-016</th>\n",
       "      <td>40</td>\n",
       "      <td>None</td>\n",
       "      <td>6544</td>\n",
       "      <td>0</td>\n",
       "      <td>Adrian Z Feeney</td>\n",
       "      <td>None</td>\n",
       "      <td>LR001</td>\n",
       "      <td>None</td>\n",
       "    </tr>\n",
       "    <tr>\n",
       "      <th>01-06-200-002</th>\n",
       "      <td>21</td>\n",
       "      <td>None</td>\n",
       "      <td>14216</td>\n",
       "      <td>0</td>\n",
       "      <td>Odalys Hope</td>\n",
       "      <td>None</td>\n",
       "      <td>NaN</td>\n",
       "      <td>None</td>\n",
       "    </tr>\n",
       "    <tr>\n",
       "      <th>01-06-200-003</th>\n",
       "      <td>30</td>\n",
       "      <td>None</td>\n",
       "      <td>66988</td>\n",
       "      <td>0</td>\n",
       "      <td>Taniya G Stearns</td>\n",
       "      <td>None</td>\n",
       "      <td>NaN</td>\n",
       "      <td>None</td>\n",
       "    </tr>\n",
       "    <tr>\n",
       "      <th>01-06-200-004</th>\n",
       "      <td>40</td>\n",
       "      <td>None</td>\n",
       "      <td>74178</td>\n",
       "      <td>0</td>\n",
       "      <td>Maegan D Carson</td>\n",
       "      <td>None</td>\n",
       "      <td>LR003</td>\n",
       "      <td>None</td>\n",
       "    </tr>\n",
       "    <tr>\n",
       "      <th>01-06-200-012</th>\n",
       "      <td>21</td>\n",
       "      <td>None</td>\n",
       "      <td>2660</td>\n",
       "      <td>0</td>\n",
       "      <td>Giavanna J Richmond</td>\n",
       "      <td>None</td>\n",
       "      <td>NaN</td>\n",
       "      <td>None</td>\n",
       "    </tr>\n",
       "    <tr>\n",
       "      <th>01-06-300-002</th>\n",
       "      <td>21</td>\n",
       "      <td>None</td>\n",
       "      <td>68782</td>\n",
       "      <td>0</td>\n",
       "      <td>Kade S Heath</td>\n",
       "      <td>None</td>\n",
       "      <td>NaN</td>\n",
       "      <td>None</td>\n",
       "    </tr>\n",
       "    <tr>\n",
       "      <th>01-06-300-004</th>\n",
       "      <td>11</td>\n",
       "      <td>None</td>\n",
       "      <td>86255</td>\n",
       "      <td>0</td>\n",
       "      <td>Matthias Gallant</td>\n",
       "      <td>None</td>\n",
       "      <td>LR001</td>\n",
       "      <td>None</td>\n",
       "    </tr>\n",
       "    <tr>\n",
       "      <th>01-06-300-005</th>\n",
       "      <td>21</td>\n",
       "      <td>None</td>\n",
       "      <td>31039</td>\n",
       "      <td>0</td>\n",
       "      <td>Zain Lanier</td>\n",
       "      <td>None</td>\n",
       "      <td>NaN</td>\n",
       "      <td>None</td>\n",
       "    </tr>\n",
       "    <tr>\n",
       "      <th>01-06-300-006</th>\n",
       "      <td>30</td>\n",
       "      <td>None</td>\n",
       "      <td>50060</td>\n",
       "      <td>0</td>\n",
       "      <td>Leonard Lipscomb</td>\n",
       "      <td>None</td>\n",
       "      <td>NaN</td>\n",
       "      <td>None</td>\n",
       "    </tr>\n",
       "    <tr>\n",
       "      <th>01-06-400-002</th>\n",
       "      <td>11</td>\n",
       "      <td>None</td>\n",
       "      <td>43455</td>\n",
       "      <td>0</td>\n",
       "      <td>Ira Benavidez</td>\n",
       "      <td>None</td>\n",
       "      <td>LR003</td>\n",
       "      <td>None</td>\n",
       "    </tr>\n",
       "    <tr>\n",
       "      <th>01-06-400-003</th>\n",
       "      <td>21</td>\n",
       "      <td>None</td>\n",
       "      <td>24986</td>\n",
       "      <td>0</td>\n",
       "      <td>Aidan G Fitzpatrick</td>\n",
       "      <td>None</td>\n",
       "      <td>NaN</td>\n",
       "      <td>None</td>\n",
       "    </tr>\n",
       "    <tr>\n",
       "      <th>01-07-100-002</th>\n",
       "      <td>21</td>\n",
       "      <td>None</td>\n",
       "      <td>81918</td>\n",
       "      <td>0</td>\n",
       "      <td>Dawn K Loomis</td>\n",
       "      <td>None</td>\n",
       "      <td>NaN</td>\n",
       "      <td>None</td>\n",
       "    </tr>\n",
       "    <tr>\n",
       "      <th>01-07-100-003</th>\n",
       "      <td>11</td>\n",
       "      <td>None</td>\n",
       "      <td>70555</td>\n",
       "      <td>0</td>\n",
       "      <td>Collin Rasmussen</td>\n",
       "      <td>None</td>\n",
       "      <td>LR003</td>\n",
       "      <td>None</td>\n",
       "    </tr>\n",
       "    <tr>\n",
       "      <th>01-07-200-004</th>\n",
       "      <td>11</td>\n",
       "      <td>None</td>\n",
       "      <td>22805</td>\n",
       "      <td>0</td>\n",
       "      <td>Hollie Meador</td>\n",
       "      <td>None</td>\n",
       "      <td>LR003</td>\n",
       "      <td>None</td>\n",
       "    </tr>\n",
       "    <tr>\n",
       "      <th>01-07-200-005</th>\n",
       "      <td>40</td>\n",
       "      <td>None</td>\n",
       "      <td>42975</td>\n",
       "      <td>0</td>\n",
       "      <td>Jerrod Castaneda</td>\n",
       "      <td>None</td>\n",
       "      <td>LR001</td>\n",
       "      <td>None</td>\n",
       "    </tr>\n",
       "    <tr>\n",
       "      <th>01-07-200-006</th>\n",
       "      <td>40</td>\n",
       "      <td>None</td>\n",
       "      <td>44874</td>\n",
       "      <td>0</td>\n",
       "      <td>Jane J Whitman</td>\n",
       "      <td>None</td>\n",
       "      <td>LR003</td>\n",
       "      <td>None</td>\n",
       "    </tr>\n",
       "    <tr>\n",
       "      <th>01-07-200-007</th>\n",
       "      <td>21</td>\n",
       "      <td>None</td>\n",
       "      <td>14094</td>\n",
       "      <td>0</td>\n",
       "      <td>Caitlynn Alley</td>\n",
       "      <td>None</td>\n",
       "      <td>NaN</td>\n",
       "      <td>None</td>\n",
       "    </tr>\n",
       "    <tr>\n",
       "      <th>01-07-200-008</th>\n",
       "      <td>11</td>\n",
       "      <td>None</td>\n",
       "      <td>87618</td>\n",
       "      <td>0</td>\n",
       "      <td>Ayanna McNeil</td>\n",
       "      <td>None</td>\n",
       "      <td>LR003</td>\n",
       "      <td>None</td>\n",
       "    </tr>\n",
       "    <tr>\n",
       "      <th>01-07-200-009</th>\n",
       "      <td>40</td>\n",
       "      <td>None</td>\n",
       "      <td>4192</td>\n",
       "      <td>0</td>\n",
       "      <td>Lorenzo H Glass</td>\n",
       "      <td>None</td>\n",
       "      <td>LR003</td>\n",
       "      <td>None</td>\n",
       "    </tr>\n",
       "  </tbody>\n",
       "</table>\n",
       "</div>"
      ],
      "text/plain": [
       "              property_class       assessed_value                 owner_name  \\\n",
       "                        self other           self other                 self   \n",
       "pin                                                                            \n",
       "01-06-100-001             40  None          39603     0      Tylor Y Mercado   \n",
       "01-06-100-003             30  None          33296     0   Carolina J Winston   \n",
       "01-06-100-004             11  None          13355     0      Berenice Prieto   \n",
       "01-06-100-005             30  None          88728     0    Wayne V Whitworth   \n",
       "01-06-100-006             11  None          42899     0       Bryce C Davies   \n",
       "01-06-100-011             11  None          59261     0       Malcolm E Eddy   \n",
       "01-06-100-012             21  None          90056     0        Morris C Pyle   \n",
       "01-06-100-013             40  None          94967     0       Felipe K Wolfe   \n",
       "01-06-100-014             11  None          47075     0  Johnathon R Corbett   \n",
       "01-06-100-015             21  None          33494     0    Zackary J Diamond   \n",
       "01-06-100-016             40  None           6544     0      Adrian Z Feeney   \n",
       "01-06-200-002             21  None          14216     0          Odalys Hope   \n",
       "01-06-200-003             30  None          66988     0     Taniya G Stearns   \n",
       "01-06-200-004             40  None          74178     0      Maegan D Carson   \n",
       "01-06-200-012             21  None           2660     0  Giavanna J Richmond   \n",
       "01-06-300-002             21  None          68782     0         Kade S Heath   \n",
       "01-06-300-004             11  None          86255     0     Matthias Gallant   \n",
       "01-06-300-005             21  None          31039     0          Zain Lanier   \n",
       "01-06-300-006             30  None          50060     0     Leonard Lipscomb   \n",
       "01-06-400-002             11  None          43455     0        Ira Benavidez   \n",
       "01-06-400-003             21  None          24986     0  Aidan G Fitzpatrick   \n",
       "01-07-100-002             21  None          81918     0        Dawn K Loomis   \n",
       "01-07-100-003             11  None          70555     0     Collin Rasmussen   \n",
       "01-07-200-004             11  None          22805     0        Hollie Meador   \n",
       "01-07-200-005             40  None          42975     0     Jerrod Castaneda   \n",
       "01-07-200-006             40  None          44874     0       Jane J Whitman   \n",
       "01-07-200-007             21  None          14094     0       Caitlynn Alley   \n",
       "01-07-200-008             11  None          87618     0        Ayanna McNeil   \n",
       "01-07-200-009             40  None           4192     0      Lorenzo H Glass   \n",
       "\n",
       "                    tax_code        \n",
       "              other     self other  \n",
       "pin                                 \n",
       "01-06-100-001  None    LR001  None  \n",
       "01-06-100-003  None      NaN  None  \n",
       "01-06-100-004  None    LR001  None  \n",
       "01-06-100-005  None      NaN  None  \n",
       "01-06-100-006  None    LR001  None  \n",
       "01-06-100-011  None    LR003  None  \n",
       "01-06-100-012  None      NaN  None  \n",
       "01-06-100-013  None    LR001  None  \n",
       "01-06-100-014  None    LR001  None  \n",
       "01-06-100-015  None      NaN  None  \n",
       "01-06-100-016  None    LR001  None  \n",
       "01-06-200-002  None      NaN  None  \n",
       "01-06-200-003  None      NaN  None  \n",
       "01-06-200-004  None    LR003  None  \n",
       "01-06-200-012  None      NaN  None  \n",
       "01-06-300-002  None      NaN  None  \n",
       "01-06-300-004  None    LR001  None  \n",
       "01-06-300-005  None      NaN  None  \n",
       "01-06-300-006  None      NaN  None  \n",
       "01-06-400-002  None    LR003  None  \n",
       "01-06-400-003  None      NaN  None  \n",
       "01-07-100-002  None      NaN  None  \n",
       "01-07-100-003  None    LR003  None  \n",
       "01-07-200-004  None    LR003  None  \n",
       "01-07-200-005  None    LR001  None  \n",
       "01-07-200-006  None    LR003  None  \n",
       "01-07-200-007  None      NaN  None  \n",
       "01-07-200-008  None    LR003  None  \n",
       "01-07-200-009  None    LR003  None  "
      ]
     },
     "execution_count": 122,
     "metadata": {},
     "output_type": "execute_result"
    }
   ],
   "source": [
    "comp_a = inner_a.compare(dest_a[dest_a.index.isin(inner_a.index.to_list())])\n",
    "\n",
    "comp_a"
   ]
  },
  {
   "cell_type": "code",
   "execution_count": 124,
   "metadata": {},
   "outputs": [
    {
     "data": {
      "text/html": [
       "<div>\n",
       "<style scoped>\n",
       "    .dataframe tbody tr th:only-of-type {\n",
       "        vertical-align: middle;\n",
       "    }\n",
       "\n",
       "    .dataframe tbody tr th {\n",
       "        vertical-align: top;\n",
       "    }\n",
       "\n",
       "    .dataframe thead th {\n",
       "        text-align: right;\n",
       "    }\n",
       "</style>\n",
       "<table border=\"1\" class=\"dataframe\">\n",
       "  <thead>\n",
       "    <tr style=\"text-align: right;\">\n",
       "      <th></th>\n",
       "      <th>pin</th>\n",
       "      <th>property_class</th>\n",
       "      <th>assessed_value</th>\n",
       "      <th>owner_name</th>\n",
       "      <th>tax_code</th>\n",
       "      <th>OBJECTID</th>\n",
       "    </tr>\n",
       "    <tr>\n",
       "      <th>pin</th>\n",
       "      <th></th>\n",
       "      <th></th>\n",
       "      <th></th>\n",
       "      <th></th>\n",
       "      <th></th>\n",
       "      <th></th>\n",
       "    </tr>\n",
       "  </thead>\n",
       "  <tbody>\n",
       "    <tr>\n",
       "      <th>01-06-100-001</th>\n",
       "      <td>01-06-100-001</td>\n",
       "      <td>40</td>\n",
       "      <td>39603</td>\n",
       "      <td>Tylor Y Mercado</td>\n",
       "      <td>LR001</td>\n",
       "      <td>2</td>\n",
       "    </tr>\n",
       "    <tr>\n",
       "      <th>01-06-100-003</th>\n",
       "      <td>01-06-100-003</td>\n",
       "      <td>30</td>\n",
       "      <td>33296</td>\n",
       "      <td>Carolina J Winston</td>\n",
       "      <td>NaN</td>\n",
       "      <td>8</td>\n",
       "    </tr>\n",
       "    <tr>\n",
       "      <th>01-06-100-004</th>\n",
       "      <td>01-06-100-004</td>\n",
       "      <td>11</td>\n",
       "      <td>13355</td>\n",
       "      <td>Berenice Prieto</td>\n",
       "      <td>LR001</td>\n",
       "      <td>13</td>\n",
       "    </tr>\n",
       "    <tr>\n",
       "      <th>01-06-100-005</th>\n",
       "      <td>01-06-100-005</td>\n",
       "      <td>30</td>\n",
       "      <td>88728</td>\n",
       "      <td>Wayne V Whitworth</td>\n",
       "      <td>NaN</td>\n",
       "      <td>9</td>\n",
       "    </tr>\n",
       "    <tr>\n",
       "      <th>01-06-100-006</th>\n",
       "      <td>01-06-100-006</td>\n",
       "      <td>11</td>\n",
       "      <td>42899</td>\n",
       "      <td>Bryce C Davies</td>\n",
       "      <td>LR001</td>\n",
       "      <td>11</td>\n",
       "    </tr>\n",
       "    <tr>\n",
       "      <th>01-06-100-011</th>\n",
       "      <td>01-06-100-011</td>\n",
       "      <td>11</td>\n",
       "      <td>59261</td>\n",
       "      <td>Malcolm E Eddy</td>\n",
       "      <td>LR003</td>\n",
       "      <td>16</td>\n",
       "    </tr>\n",
       "    <tr>\n",
       "      <th>01-06-100-012</th>\n",
       "      <td>01-06-100-012</td>\n",
       "      <td>21</td>\n",
       "      <td>90056</td>\n",
       "      <td>Morris C Pyle</td>\n",
       "      <td>NaN</td>\n",
       "      <td>30</td>\n",
       "    </tr>\n",
       "    <tr>\n",
       "      <th>01-06-100-013</th>\n",
       "      <td>01-06-100-013</td>\n",
       "      <td>40</td>\n",
       "      <td>94967</td>\n",
       "      <td>Felipe K Wolfe</td>\n",
       "      <td>LR001</td>\n",
       "      <td>15</td>\n",
       "    </tr>\n",
       "    <tr>\n",
       "      <th>01-06-100-014</th>\n",
       "      <td>01-06-100-014</td>\n",
       "      <td>11</td>\n",
       "      <td>47075</td>\n",
       "      <td>Johnathon R Corbett</td>\n",
       "      <td>LR001</td>\n",
       "      <td>3</td>\n",
       "    </tr>\n",
       "    <tr>\n",
       "      <th>01-06-100-015</th>\n",
       "      <td>01-06-100-015</td>\n",
       "      <td>21</td>\n",
       "      <td>33494</td>\n",
       "      <td>Zackary J Diamond</td>\n",
       "      <td>NaN</td>\n",
       "      <td>14</td>\n",
       "    </tr>\n",
       "    <tr>\n",
       "      <th>01-06-100-016</th>\n",
       "      <td>01-06-100-016</td>\n",
       "      <td>40</td>\n",
       "      <td>6544</td>\n",
       "      <td>Adrian Z Feeney</td>\n",
       "      <td>LR001</td>\n",
       "      <td>10</td>\n",
       "    </tr>\n",
       "    <tr>\n",
       "      <th>01-06-200-002</th>\n",
       "      <td>01-06-200-002</td>\n",
       "      <td>21</td>\n",
       "      <td>14216</td>\n",
       "      <td>Odalys Hope</td>\n",
       "      <td>NaN</td>\n",
       "      <td>4</td>\n",
       "    </tr>\n",
       "    <tr>\n",
       "      <th>01-06-200-003</th>\n",
       "      <td>01-06-200-003</td>\n",
       "      <td>30</td>\n",
       "      <td>66988</td>\n",
       "      <td>Taniya G Stearns</td>\n",
       "      <td>NaN</td>\n",
       "      <td>22</td>\n",
       "    </tr>\n",
       "    <tr>\n",
       "      <th>01-06-200-004</th>\n",
       "      <td>01-06-200-004</td>\n",
       "      <td>40</td>\n",
       "      <td>74178</td>\n",
       "      <td>Maegan D Carson</td>\n",
       "      <td>LR003</td>\n",
       "      <td>23</td>\n",
       "    </tr>\n",
       "    <tr>\n",
       "      <th>01-06-200-012</th>\n",
       "      <td>01-06-200-012</td>\n",
       "      <td>21</td>\n",
       "      <td>2660</td>\n",
       "      <td>Giavanna J Richmond</td>\n",
       "      <td>NaN</td>\n",
       "      <td>5</td>\n",
       "    </tr>\n",
       "    <tr>\n",
       "      <th>01-06-300-002</th>\n",
       "      <td>01-06-300-002</td>\n",
       "      <td>21</td>\n",
       "      <td>68782</td>\n",
       "      <td>Kade S Heath</td>\n",
       "      <td>NaN</td>\n",
       "      <td>17</td>\n",
       "    </tr>\n",
       "    <tr>\n",
       "      <th>01-06-300-004</th>\n",
       "      <td>01-06-300-004</td>\n",
       "      <td>11</td>\n",
       "      <td>86255</td>\n",
       "      <td>Matthias Gallant</td>\n",
       "      <td>LR001</td>\n",
       "      <td>6</td>\n",
       "    </tr>\n",
       "    <tr>\n",
       "      <th>01-06-300-005</th>\n",
       "      <td>01-06-300-005</td>\n",
       "      <td>21</td>\n",
       "      <td>31039</td>\n",
       "      <td>Zain Lanier</td>\n",
       "      <td>NaN</td>\n",
       "      <td>20</td>\n",
       "    </tr>\n",
       "    <tr>\n",
       "      <th>01-06-300-006</th>\n",
       "      <td>01-06-300-006</td>\n",
       "      <td>30</td>\n",
       "      <td>50060</td>\n",
       "      <td>Leonard Lipscomb</td>\n",
       "      <td>NaN</td>\n",
       "      <td>21</td>\n",
       "    </tr>\n",
       "    <tr>\n",
       "      <th>01-06-400-002</th>\n",
       "      <td>01-06-400-002</td>\n",
       "      <td>11</td>\n",
       "      <td>43455</td>\n",
       "      <td>Ira Benavidez</td>\n",
       "      <td>LR003</td>\n",
       "      <td>29</td>\n",
       "    </tr>\n",
       "    <tr>\n",
       "      <th>01-06-400-003</th>\n",
       "      <td>01-06-400-003</td>\n",
       "      <td>21</td>\n",
       "      <td>24986</td>\n",
       "      <td>Aidan G Fitzpatrick</td>\n",
       "      <td>NaN</td>\n",
       "      <td>7</td>\n",
       "    </tr>\n",
       "    <tr>\n",
       "      <th>01-07-100-002</th>\n",
       "      <td>01-07-100-002</td>\n",
       "      <td>21</td>\n",
       "      <td>81918</td>\n",
       "      <td>Dawn K Loomis</td>\n",
       "      <td>NaN</td>\n",
       "      <td>18</td>\n",
       "    </tr>\n",
       "    <tr>\n",
       "      <th>01-07-100-003</th>\n",
       "      <td>01-07-100-003</td>\n",
       "      <td>11</td>\n",
       "      <td>70555</td>\n",
       "      <td>Collin Rasmussen</td>\n",
       "      <td>LR003</td>\n",
       "      <td>24</td>\n",
       "    </tr>\n",
       "    <tr>\n",
       "      <th>01-07-200-004</th>\n",
       "      <td>01-07-200-004</td>\n",
       "      <td>11</td>\n",
       "      <td>22805</td>\n",
       "      <td>Hollie Meador</td>\n",
       "      <td>LR003</td>\n",
       "      <td>19</td>\n",
       "    </tr>\n",
       "    <tr>\n",
       "      <th>01-07-200-005</th>\n",
       "      <td>01-07-200-005</td>\n",
       "      <td>40</td>\n",
       "      <td>42975</td>\n",
       "      <td>Jerrod Castaneda</td>\n",
       "      <td>LR001</td>\n",
       "      <td>12</td>\n",
       "    </tr>\n",
       "    <tr>\n",
       "      <th>01-07-200-006</th>\n",
       "      <td>01-07-200-006</td>\n",
       "      <td>40</td>\n",
       "      <td>44874</td>\n",
       "      <td>Jane J Whitman</td>\n",
       "      <td>LR003</td>\n",
       "      <td>28</td>\n",
       "    </tr>\n",
       "    <tr>\n",
       "      <th>01-07-200-007</th>\n",
       "      <td>01-07-200-007</td>\n",
       "      <td>21</td>\n",
       "      <td>14094</td>\n",
       "      <td>Caitlynn Alley</td>\n",
       "      <td>NaN</td>\n",
       "      <td>27</td>\n",
       "    </tr>\n",
       "    <tr>\n",
       "      <th>01-07-200-008</th>\n",
       "      <td>01-07-200-008</td>\n",
       "      <td>11</td>\n",
       "      <td>87618</td>\n",
       "      <td>Ayanna McNeil</td>\n",
       "      <td>LR003</td>\n",
       "      <td>26</td>\n",
       "    </tr>\n",
       "    <tr>\n",
       "      <th>01-07-200-009</th>\n",
       "      <td>01-07-200-009</td>\n",
       "      <td>40</td>\n",
       "      <td>4192</td>\n",
       "      <td>Lorenzo H Glass</td>\n",
       "      <td>LR003</td>\n",
       "      <td>25</td>\n",
       "    </tr>\n",
       "  </tbody>\n",
       "</table>\n",
       "</div>"
      ],
      "text/plain": [
       "                         pin  property_class  assessed_value  \\\n",
       "pin                                                            \n",
       "01-06-100-001  01-06-100-001              40           39603   \n",
       "01-06-100-003  01-06-100-003              30           33296   \n",
       "01-06-100-004  01-06-100-004              11           13355   \n",
       "01-06-100-005  01-06-100-005              30           88728   \n",
       "01-06-100-006  01-06-100-006              11           42899   \n",
       "01-06-100-011  01-06-100-011              11           59261   \n",
       "01-06-100-012  01-06-100-012              21           90056   \n",
       "01-06-100-013  01-06-100-013              40           94967   \n",
       "01-06-100-014  01-06-100-014              11           47075   \n",
       "01-06-100-015  01-06-100-015              21           33494   \n",
       "01-06-100-016  01-06-100-016              40            6544   \n",
       "01-06-200-002  01-06-200-002              21           14216   \n",
       "01-06-200-003  01-06-200-003              30           66988   \n",
       "01-06-200-004  01-06-200-004              40           74178   \n",
       "01-06-200-012  01-06-200-012              21            2660   \n",
       "01-06-300-002  01-06-300-002              21           68782   \n",
       "01-06-300-004  01-06-300-004              11           86255   \n",
       "01-06-300-005  01-06-300-005              21           31039   \n",
       "01-06-300-006  01-06-300-006              30           50060   \n",
       "01-06-400-002  01-06-400-002              11           43455   \n",
       "01-06-400-003  01-06-400-003              21           24986   \n",
       "01-07-100-002  01-07-100-002              21           81918   \n",
       "01-07-100-003  01-07-100-003              11           70555   \n",
       "01-07-200-004  01-07-200-004              11           22805   \n",
       "01-07-200-005  01-07-200-005              40           42975   \n",
       "01-07-200-006  01-07-200-006              40           44874   \n",
       "01-07-200-007  01-07-200-007              21           14094   \n",
       "01-07-200-008  01-07-200-008              11           87618   \n",
       "01-07-200-009  01-07-200-009              40            4192   \n",
       "\n",
       "                        owner_name tax_code  OBJECTID  \n",
       "pin                                                    \n",
       "01-06-100-001      Tylor Y Mercado    LR001         2  \n",
       "01-06-100-003   Carolina J Winston      NaN         8  \n",
       "01-06-100-004      Berenice Prieto    LR001        13  \n",
       "01-06-100-005    Wayne V Whitworth      NaN         9  \n",
       "01-06-100-006       Bryce C Davies    LR001        11  \n",
       "01-06-100-011       Malcolm E Eddy    LR003        16  \n",
       "01-06-100-012        Morris C Pyle      NaN        30  \n",
       "01-06-100-013       Felipe K Wolfe    LR001        15  \n",
       "01-06-100-014  Johnathon R Corbett    LR001         3  \n",
       "01-06-100-015    Zackary J Diamond      NaN        14  \n",
       "01-06-100-016      Adrian Z Feeney    LR001        10  \n",
       "01-06-200-002          Odalys Hope      NaN         4  \n",
       "01-06-200-003     Taniya G Stearns      NaN        22  \n",
       "01-06-200-004      Maegan D Carson    LR003        23  \n",
       "01-06-200-012  Giavanna J Richmond      NaN         5  \n",
       "01-06-300-002         Kade S Heath      NaN        17  \n",
       "01-06-300-004     Matthias Gallant    LR001         6  \n",
       "01-06-300-005          Zain Lanier      NaN        20  \n",
       "01-06-300-006     Leonard Lipscomb      NaN        21  \n",
       "01-06-400-002        Ira Benavidez    LR003        29  \n",
       "01-06-400-003  Aidan G Fitzpatrick      NaN         7  \n",
       "01-07-100-002        Dawn K Loomis      NaN        18  \n",
       "01-07-100-003     Collin Rasmussen    LR003        24  \n",
       "01-07-200-004        Hollie Meador    LR003        19  \n",
       "01-07-200-005     Jerrod Castaneda    LR001        12  \n",
       "01-07-200-006       Jane J Whitman    LR003        28  \n",
       "01-07-200-007       Caitlynn Alley      NaN        27  \n",
       "01-07-200-008        Ayanna McNeil    LR003        26  \n",
       "01-07-200-009      Lorenzo H Glass    LR003        25  "
      ]
     },
     "execution_count": 124,
     "metadata": {},
     "output_type": "execute_result"
    }
   ],
   "source": [
    "update_a = inner_a[inner_a.index.isin(comp_a.index.to_list())]\n",
    "\n",
    "update_a"
   ]
  },
  {
   "cell_type": "code",
   "execution_count": 125,
   "metadata": {},
   "outputs": [
    {
     "data": {
      "text/plain": [
       "{'addResults': [],\n",
       " 'updateResults': [{'objectId': 2,\n",
       "   'uniqueId': 2,\n",
       "   'globalId': None,\n",
       "   'success': True},\n",
       "  {'objectId': 8, 'uniqueId': 8, 'globalId': None, 'success': True},\n",
       "  {'objectId': 13, 'uniqueId': 13, 'globalId': None, 'success': True},\n",
       "  {'objectId': 9, 'uniqueId': 9, 'globalId': None, 'success': True},\n",
       "  {'objectId': 11, 'uniqueId': 11, 'globalId': None, 'success': True},\n",
       "  {'objectId': 16, 'uniqueId': 16, 'globalId': None, 'success': True},\n",
       "  {'objectId': 30, 'uniqueId': 30, 'globalId': None, 'success': True},\n",
       "  {'objectId': 15, 'uniqueId': 15, 'globalId': None, 'success': True},\n",
       "  {'objectId': 3, 'uniqueId': 3, 'globalId': None, 'success': True},\n",
       "  {'objectId': 14, 'uniqueId': 14, 'globalId': None, 'success': True},\n",
       "  {'objectId': 10, 'uniqueId': 10, 'globalId': None, 'success': True},\n",
       "  {'objectId': 4, 'uniqueId': 4, 'globalId': None, 'success': True},\n",
       "  {'objectId': 22, 'uniqueId': 22, 'globalId': None, 'success': True},\n",
       "  {'objectId': 23, 'uniqueId': 23, 'globalId': None, 'success': True},\n",
       "  {'objectId': 5, 'uniqueId': 5, 'globalId': None, 'success': True},\n",
       "  {'objectId': 17, 'uniqueId': 17, 'globalId': None, 'success': True},\n",
       "  {'objectId': 6, 'uniqueId': 6, 'globalId': None, 'success': True},\n",
       "  {'objectId': 20, 'uniqueId': 20, 'globalId': None, 'success': True},\n",
       "  {'objectId': 21, 'uniqueId': 21, 'globalId': None, 'success': True},\n",
       "  {'objectId': 29, 'uniqueId': 29, 'globalId': None, 'success': True},\n",
       "  {'objectId': 7, 'uniqueId': 7, 'globalId': None, 'success': True},\n",
       "  {'objectId': 18, 'uniqueId': 18, 'globalId': None, 'success': True},\n",
       "  {'objectId': 24, 'uniqueId': 24, 'globalId': None, 'success': True},\n",
       "  {'objectId': 19, 'uniqueId': 19, 'globalId': None, 'success': True},\n",
       "  {'objectId': 12, 'uniqueId': 12, 'globalId': None, 'success': True},\n",
       "  {'objectId': 28, 'uniqueId': 28, 'globalId': None, 'success': True},\n",
       "  {'objectId': 27, 'uniqueId': 27, 'globalId': None, 'success': True},\n",
       "  {'objectId': 26, 'uniqueId': 26, 'globalId': None, 'success': True},\n",
       "  {'objectId': 25, 'uniqueId': 25, 'globalId': None, 'success': True}],\n",
       " 'deleteResults': []}"
      ]
     },
     "execution_count": 125,
     "metadata": {},
     "output_type": "execute_result"
    }
   ],
   "source": [
    "dest.layers[0].edit_features(updates=update_a.spatial.to_featureset())"
   ]
  },
  {
   "cell_type": "markdown",
   "metadata": {
    "slideshow": {
     "slide_type": "subslide"
    }
   },
   "source": [
    "## Use Comparisons to Subset Source\n",
    "\n",
    "## Supply Source Data as Edits"
   ]
  },
  {
   "cell_type": "code",
   "execution_count": null,
   "metadata": {},
   "outputs": [],
   "source": [
    "### here's the assessments data update script for copying stuff\n",
    "\n",
    "## Packages\n",
    "import os\n",
    "import sys\n",
    "import time\n",
    "import pandas as pd\n",
    "import admintoolbox.portal_functions as f\n",
    "\n",
    "## Start Counter\n",
    "start_time = time.perf_counter()\n",
    "\n",
    "\n",
    "## Portal and Layers\n",
    "# Portal connection\n",
    "gis = f.setPortal('Assessment Data Update')\n",
    "\n",
    "# Parcels\n",
    "parcels = gis.content.get('647e966722f943d0b5d49f82288a839e').layers[1]\n",
    "\n",
    "# Devnet connection string\n",
    "devnet_constr = 'mssql+pymssql://172.18.1.23/Property_Tax'\n",
    "\n",
    "# Logging origin\n",
    "origin = 'Assessment Data Update'\n",
    "\n",
    "\n",
    "## Script body\n",
    "# Query Devnet\n",
    "with open(os.path.join(sys.path[0], 'assessment.sql'), mode='r') as q:\n",
    "    assessment_query = q.read()\n",
    "\n",
    "parcel_df = pd.read_sql_query(assessment_query, devnet_constr)\n",
    "\n",
    "# Group rows by PIN\n",
    "parcel_df = parcel_df.groupby(by='pin').first()\n",
    "\n",
    "## Clean up Devnet rows\n",
    "# Strip excess whitespace from address and ownership fields resulted from concatenating null \n",
    "parcel_df.replace(regex={r'\\s\\s+' : ' ', r'^\\s+' : '', r'\\s+$' : '', '<|>':''}, inplace=True)\n",
    "\n",
    "# Set NaN to 0 in numeric fields\n",
    "i_fields = [\n",
    "    'tax_billed',\n",
    "    'farm_land',\n",
    "    'farm_building',\n",
    "    'non_farm_land',\n",
    "    'non_farm_building',\n",
    "    'total_assessed',\n",
    "    'gross_acres',\n",
    "    'homesite_ac',\n",
    "    'farm_ac'\n",
    "]\n",
    "\n",
    "# Set None to empty string in text fields\n",
    "t_fields = [\n",
    "    'alt_pin',\n",
    "    'legal',\n",
    "    'class',\n",
    "    'tax_code',\n",
    "    'township',\n",
    "    'lot_dim',\n",
    "    'site_address',\n",
    "    'site_csz',\n",
    "    'owner_name',\n",
    "    'owner_addr1',\n",
    "    'owner_addr2',\n",
    "    'owner_csz',\n",
    "    'notes',\n",
    "    'tax_status'\n",
    "]\n",
    "\n",
    "parcel_df[i_fields] = parcel_df[i_fields].fillna(0)\n",
    "parcel_df[t_fields] = parcel_df[t_fields].fillna('')\n",
    "\n",
    "## Query hosted table\n",
    "# Define fields\n",
    "assessment_fields = parcel_df.columns.to_list()\n",
    "assessment_fields.extend(['objectid', 'pin'])\n",
    "\n",
    "# Submit query\n",
    "p_df = parcels.query(out_fields=assessment_fields,\n",
    "    return_geometry=False,\n",
    "    as_df=True).set_index('pin')\n",
    "\n",
    "# Clean up frame for compatibility\n",
    "p_df[i_fields] = p_df[i_fields].fillna(0)\n",
    "p_df[t_fields] = p_df[t_fields].fillna('')\n",
    "\n",
    "# Get 'inner' frame of common rows\n",
    "inner_df = parcel_df.merge(p_df[['objectid']], how='inner', left_index=True, right_index=True)\n",
    "\n",
    "# Set schemas equal\n",
    "inner_df = inner_df[p_df.columns.to_list()]\n",
    "\n",
    "# Sort frames the same\n",
    "for df in [inner_df, p_df]:\n",
    "    df.sort_index(inplace=True)\n",
    "\n",
    "# Create comparison frame to get rows with updates\n",
    "comp = inner_df.compare(p_df[p_df.index.isin(inner_df.index.to_list())])\n",
    "\n",
    "# Subset 'inner' frame with 'comp' index\n",
    "update_df = inner_df[inner_df.index.isin(comp.index.to_list())]\n",
    "\n",
    "# Convert to integer fields\n",
    "out_ints = {\n",
    "    'farm_building':'int',\n",
    "    'farm_land':'int',\n",
    "    'non_farm_building':'int',\n",
    "    'non_farm_land':'int',\n",
    "    'total_assessed':'int'\n",
    "}\n",
    "\n",
    "update_df = update_df.astype(out_ints)\n",
    "\n",
    "## Apply edits\n",
    "f.df_layer_update(update_df, parcels)\n",
    "\n",
    "# Update Time\n",
    "f.update_time('assessment')\n",
    "\n",
    "# Finish!\n",
    "f.log_add(f'Finished assessment update script. Execution time: {(time.perf_counter() - start_time):0.2f} seconds')\n"
   ]
  },
  {
   "cell_type": "markdown",
   "metadata": {},
   "source": [
    "# Further Enhancements\n",
    "\n",
    "## Time-based Filtering\n",
    "\n",
    "### Separate source for \"last update\" timestamps\n",
    "\n",
    "## Logging\n",
    "\n",
    "### Separate table for \"log messages\""
   ]
  }
 ],
 "metadata": {
  "celltoolbar": "Slideshow",
  "kernelspec": {
   "display_name": "Python 3 (ipykernel)",
   "language": "python",
   "name": "python3"
  },
  "language_info": {
   "codemirror_mode": {
    "name": "ipython",
    "version": 3
   },
   "file_extension": ".py",
   "mimetype": "text/x-python",
   "name": "python",
   "nbconvert_exporter": "python",
   "pygments_lexer": "ipython3",
   "version": "3.9.13"
  },
  "rise": {
   "enable_chalkboard": true,
   "scroll": true
  },
  "vscode": {
   "interpreter": {
    "hash": "ad2bdc8ecc057115af97d19610ffacc2b4e99fae6737bb82f5d7fb13d2f2c186"
   }
  }
 },
 "nbformat": 4,
 "nbformat_minor": 2
}
